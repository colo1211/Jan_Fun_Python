{
 "cells": [
  {
   "cell_type": "markdown",
   "metadata": {},
   "source": [
    "## 1. 문제를 풀며 빠르게 익숙해지는 파이썬 기본 프로그래밍1"
   ]
  },
  {
   "cell_type": "markdown",
   "metadata": {},
   "source": [
    "### Exercise 1. 출력\n",
    "* 화면에 \"Hello World!\"를 출력하세요."
   ]
  },
  {
   "cell_type": "code",
   "execution_count": null,
   "metadata": {},
   "outputs": [],
   "source": [
    "print(\"hello world\")"
   ]
  },
  {
   "cell_type": "markdown",
   "metadata": {},
   "source": [
    "### Exercise 2. 출력\n",
    "* 화면에 \"I don't like C language\"를 출력하세요."
   ]
  },
  {
   "cell_type": "code",
   "execution_count": 1,
   "metadata": {},
   "outputs": [
    {
     "name": "stdout",
     "output_type": "stream",
     "text": [
      "I don't like C language\n"
     ]
    }
   ],
   "source": [
    "print(\"I don't like C language\")"
   ]
  },
  {
   "cell_type": "markdown",
   "metadata": {},
   "source": [
    "### Exercise 3. 출력\n",
    "* print 함수를 사용하여 3.1415의 값을 출력하세요. \n",
    "  - 단, 소수점 아래는 첫 번째 자리까지만 표시되도록 하세요.\n",
    "\n",
    "Example <br>\n",
    "3.1"
   ]
  },
  {
   "cell_type": "code",
   "execution_count": 1,
   "metadata": {},
   "outputs": [
    {
     "name": "stdout",
     "output_type": "stream",
     "text": [
      "3.1\n"
     ]
    }
   ],
   "source": [
    "print(\"%.1f\"%3.1415)"
   ]
  },
  {
   "cell_type": "markdown",
   "metadata": {},
   "source": [
    "### Exercise 4. 형 변환\n",
    "* 문자열 '720'를 정수형으로 변환하라. 정수 100을 문자열 '100'으로 변환하라."
   ]
  },
  {
   "cell_type": "markdown",
   "metadata": {},
   "source": [
    "### Exercise 5. 연산\n",
    "* 2와 4 숫자를 변수에 넣고, 두 변수를 더한 값, 곱한 값, 나눈 값을 출력하세요.\n",
    "\n",
    "Example <br>\n",
    "6 <br>\n",
    "8 <br>\n",
    "0.5"
   ]
  },
  {
   "cell_type": "code",
   "execution_count": 1,
   "metadata": {},
   "outputs": [
    {
     "name": "stdout",
     "output_type": "stream",
     "text": [
      "6\n",
      "8\n",
      "0.5\n"
     ]
    }
   ],
   "source": [
    "a=2\n",
    "b=4\n",
    "print(a+b)\n",
    "print(a*b)\n",
    "print(a/b)"
   ]
  },
  {
   "cell_type": "code",
   "execution_count": 2,
   "metadata": {},
   "outputs": [],
   "source": [
    "num = True #부울리언 자료형은 앞에 대문자 True/ False"
   ]
  },
  {
   "cell_type": "code",
   "execution_count": 3,
   "metadata": {},
   "outputs": [
    {
     "name": "stdout",
     "output_type": "stream",
     "text": [
      "True\n"
     ]
    }
   ],
   "source": [
    "print(3<7)"
   ]
  },
  {
   "cell_type": "code",
   "execution_count": 4,
   "metadata": {},
   "outputs": [
    {
     "name": "stdout",
     "output_type": "stream",
     "text": [
      "False\n"
     ]
    }
   ],
   "source": [
    "print(3==7)"
   ]
  },
  {
   "cell_type": "code",
   "execution_count": 5,
   "metadata": {
    "scrolled": true
   },
   "outputs": [
    {
     "name": "stdout",
     "output_type": "stream",
     "text": [
      "True\n"
     ]
    }
   ],
   "source": [
    "print(3!=100)"
   ]
  },
  {
   "cell_type": "markdown",
   "metadata": {},
   "source": [
    "## 나이, 이름, 키, 몸무게, 발사이즈, 성별, 취미, 특기"
   ]
  },
  {
   "cell_type": "code",
   "execution_count": 6,
   "metadata": {},
   "outputs": [],
   "source": [
    "age= 24\n",
    "name=\"Kim\"\n",
    "height=173\n",
    "weight=80\n",
    "foot_size =275\n",
    "gender= \"Man\"\n",
    "hobby =\"running\""
   ]
  },
  {
   "cell_type": "markdown",
   "metadata": {},
   "source": [
    "### Exercise 6. 연산\n",
    "* 밑이 6 이고, 지수가 2 일 때 거듭제곱 값을 출력하라.\n",
    "  - 6의 2승\n",
    "\n",
    "Example <br>\n",
    "36"
   ]
  },
  {
   "cell_type": "code",
   "execution_count": 1,
   "metadata": {},
   "outputs": [
    {
     "name": "stdout",
     "output_type": "stream",
     "text": [
      "36\n"
     ]
    }
   ],
   "source": [
    "print(6**2)"
   ]
  },
  {
   "cell_type": "markdown",
   "metadata": {},
   "source": [
    "# Small Project2‑1 (출력 개선하기)\n",
    "반지름( r=10 )을 선언한 뒤, 이를 이용하여 원의 지름, 둘레 (2 X pi X r), 넓이(pi X r의 2승) 를 각각 출력하는\n",
    "파이썬 코드를 만들어보세요.( pi=3.1415 )"
   ]
  },
  {
   "cell_type": "code",
   "execution_count": 4,
   "metadata": {},
   "outputs": [
    {
     "name": "stdout",
     "output_type": "stream",
     "text": [
      "지름은? 20\n",
      "둘레는? 62.830000000000005\n",
      "넓이는? 314.15000000000003\n"
     ]
    }
   ],
   "source": [
    "r=10 \n",
    "pi=3.1415\n",
    "print(\"지름은?\",2*r)\n",
    "print(\"둘레는?\",2*pi*r)\n",
    "print(\"넓이는?\", pi*(r**2))"
   ]
  },
  {
   "cell_type": "markdown",
   "metadata": {},
   "source": [
    "# 입력과 출력\n",
    "input()으로 자료를 입력 받고, input()함수로 입력 받았을 시에는, 문자열로 자료형에 담긴다. "
   ]
  },
  {
   "cell_type": "code",
   "execution_count": 5,
   "metadata": {},
   "outputs": [
    {
     "name": "stdout",
     "output_type": "stream",
     "text": [
      "kim\n"
     ]
    }
   ],
   "source": [
    "\n",
    "name = input()\n"
   ]
  },
  {
   "cell_type": "code",
   "execution_count": 6,
   "metadata": {},
   "outputs": [
    {
     "name": "stdout",
     "output_type": "stream",
     "text": [
      "hello: kim\n"
     ]
    }
   ],
   "source": [
    "print(\"hello:\",name) #input함수로 입력 받은 값은 문자열로 표기된다. "
   ]
  },
  {
   "cell_type": "code",
   "execution_count": 8,
   "metadata": {},
   "outputs": [
    {
     "name": "stdout",
     "output_type": "stream",
     "text": [
      "0\n"
     ]
    }
   ],
   "source": [
    "digit = input()"
   ]
  },
  {
   "cell_type": "code",
   "execution_count": 10,
   "metadata": {},
   "outputs": [
    {
     "name": "stdout",
     "output_type": "stream",
     "text": [
      "1\n"
     ]
    }
   ],
   "source": [
    "digit2 = input()"
   ]
  },
  {
   "cell_type": "code",
   "execution_count": 13,
   "metadata": {},
   "outputs": [
    {
     "name": "stdout",
     "output_type": "stream",
     "text": [
      "01\n"
     ]
    }
   ],
   "source": [
    "print(digit+digit2) # 문자열로 표기 된 자료형은 연산이 불가능 하다. 덧셈은 그냥 붙임 "
   ]
  },
  {
   "cell_type": "code",
   "execution_count": 15,
   "metadata": {},
   "outputs": [
    {
     "ename": "TypeError",
     "evalue": "can't multiply sequence by non-int of type 'str'",
     "output_type": "error",
     "traceback": [
      "\u001b[1;31m---------------------------------------------------------------------------\u001b[0m",
      "\u001b[1;31mTypeError\u001b[0m                                 Traceback (most recent call last)",
      "\u001b[1;32m<ipython-input-15-3ff3b45f8f47>\u001b[0m in \u001b[0;36m<module>\u001b[1;34m\u001b[0m\n\u001b[1;32m----> 1\u001b[1;33m \u001b[0mprint\u001b[0m\u001b[1;33m(\u001b[0m\u001b[0mdigit\u001b[0m\u001b[1;33m*\u001b[0m\u001b[0mdigit2\u001b[0m\u001b[1;33m)\u001b[0m \u001b[1;31m# 문자하고 문자를 곱할수는 없다. -> Type Casting을 통해 해결\u001b[0m\u001b[1;33m\u001b[0m\u001b[1;33m\u001b[0m\u001b[0m\n\u001b[0m",
      "\u001b[1;31mTypeError\u001b[0m: can't multiply sequence by non-int of type 'str'"
     ]
    }
   ],
   "source": [
    "print(digit*digit2) # 문자하고 문자를 곱할수는 없다. -> Type Casting을 통해 해결"
   ]
  },
  {
   "cell_type": "markdown",
   "metadata": {},
   "source": [
    "# 강제 형변환 (Type Casting)"
   ]
  },
  {
   "cell_type": "code",
   "execution_count": 33,
   "metadata": {},
   "outputs": [
    {
     "data": {
      "text/plain": [
       "3.0"
      ]
     },
     "execution_count": 33,
     "metadata": {},
     "output_type": "execute_result"
    }
   ],
   "source": [
    "float(3)"
   ]
  },
  {
   "cell_type": "code",
   "execution_count": 17,
   "metadata": {},
   "outputs": [
    {
     "data": {
      "text/plain": [
       "3"
      ]
     },
     "execution_count": 17,
     "metadata": {},
     "output_type": "execute_result"
    }
   ],
   "source": [
    "int(3.6)"
   ]
  },
  {
   "cell_type": "code",
   "execution_count": 22,
   "metadata": {},
   "outputs": [
    {
     "name": "stdout",
     "output_type": "stream",
     "text": [
      "123\n"
     ]
    }
   ],
   "source": [
    "digit=\"123\"\n",
    "digit_int= int(digit)\n",
    "print(digit)"
   ]
  },
  {
   "cell_type": "code",
   "execution_count": 20,
   "metadata": {},
   "outputs": [
    {
     "name": "stdout",
     "output_type": "stream",
     "text": [
      "<class 'str'>\n"
     ]
    }
   ],
   "source": [
    "print(type(digit))"
   ]
  },
  {
   "cell_type": "code",
   "execution_count": 21,
   "metadata": {},
   "outputs": [
    {
     "name": "stdout",
     "output_type": "stream",
     "text": [
      "<class 'float'>\n"
     ]
    }
   ],
   "source": [
    "print(type(digit_int))"
   ]
  },
  {
   "cell_type": "code",
   "execution_count": 23,
   "metadata": {},
   "outputs": [
    {
     "name": "stdout",
     "output_type": "stream",
     "text": [
      "당신의 성을 입력하세요:김\n",
      "당신의 이름을 입력하세요:경원\n",
      "김경원\n"
     ]
    }
   ],
   "source": [
    "a=input(\"당신의 성을 입력하세요:\")\n",
    "b=input(\"당신의 이름을 입력하세요:\")\n",
    "print(a+b)"
   ]
  },
  {
   "cell_type": "code",
   "execution_count": 24,
   "metadata": {
    "scrolled": false
   },
   "outputs": [
    {
     "name": "stdout",
     "output_type": "stream",
     "text": [
      "당신의 키를 입력하세요:173\n",
      "당신의 몸무게를 입력하세요:80\n"
     ]
    },
    {
     "ename": "TypeError",
     "evalue": "can't multiply sequence by non-int of type 'str'",
     "output_type": "error",
     "traceback": [
      "\u001b[1;31m---------------------------------------------------------------------------\u001b[0m",
      "\u001b[1;31mTypeError\u001b[0m                                 Traceback (most recent call last)",
      "\u001b[1;32m<ipython-input-24-6708b746618c>\u001b[0m in \u001b[0;36m<module>\u001b[1;34m\u001b[0m\n\u001b[0;32m      1\u001b[0m \u001b[0ma\u001b[0m\u001b[1;33m=\u001b[0m\u001b[0minput\u001b[0m\u001b[1;33m(\u001b[0m\u001b[1;34m\"당신의 키를 입력하세요:\"\u001b[0m\u001b[1;33m)\u001b[0m\u001b[1;33m\u001b[0m\u001b[1;33m\u001b[0m\u001b[0m\n\u001b[0;32m      2\u001b[0m \u001b[0mb\u001b[0m\u001b[1;33m=\u001b[0m\u001b[0minput\u001b[0m\u001b[1;33m(\u001b[0m\u001b[1;34m\"당신의 몸무게를 입력하세요:\"\u001b[0m\u001b[1;33m)\u001b[0m\u001b[1;33m\u001b[0m\u001b[1;33m\u001b[0m\u001b[0m\n\u001b[1;32m----> 3\u001b[1;33m \u001b[0mprint\u001b[0m\u001b[1;33m(\u001b[0m\u001b[1;34m\"당신의 키와 몸무게의 곱은\"\u001b[0m\u001b[1;33m,\u001b[0m \u001b[0ma\u001b[0m\u001b[1;33m*\u001b[0m\u001b[0mb\u001b[0m\u001b[1;33m,\u001b[0m\u001b[1;34m\"입니다.\"\u001b[0m\u001b[1;33m)\u001b[0m\u001b[1;33m\u001b[0m\u001b[1;33m\u001b[0m\u001b[0m\n\u001b[0m",
      "\u001b[1;31mTypeError\u001b[0m: can't multiply sequence by non-int of type 'str'"
     ]
    }
   ],
   "source": [
    "a=input(\"당신의 키를 입력하세요:\")\n",
    "b=input(\"당신의 몸무게를 입력하세요:\")\n",
    "print(\"당신의 키와 몸무게의 곱은\", a*b,\"입니다.\")"
   ]
  },
  {
   "cell_type": "code",
   "execution_count": 32,
   "metadata": {},
   "outputs": [
    {
     "name": "stdout",
     "output_type": "stream",
     "text": [
      "당신의 키를 입력하세요:187\n",
      "당신의 몸무게를 입력하세요:87\n",
      "당신의 키와 몸무게의 곱은 16269 입니다.\n"
     ]
    }
   ],
   "source": [
    "a=int(input(\"당신의 키를 입력하세요:\"))\n",
    "b=int(input(\"당신의 몸무게를 입력하세요:\"))\n",
    "print(\"당신의 키와 몸무게의 곱은\", a*b,\"입니다.\")"
   ]
  },
  {
   "cell_type": "code",
   "execution_count": 26,
   "metadata": {},
   "outputs": [],
   "source": [
    "#input은 자료형을 문자열로 받기 때문에 사칙연산이 불가능 하다. 따라서, 나는 강제 형변환을 해줘야 한다. "
   ]
  },
  {
   "cell_type": "code",
   "execution_count": 27,
   "metadata": {},
   "outputs": [
    {
     "name": "stdout",
     "output_type": "stream",
     "text": [
      "당신의 키와 몸무게의 곱은 13840.0 입니다.\n"
     ]
    }
   ],
   "source": [
    "print(\"당신의 키와 몸무게의 곱은\",float(a)*float(b),\"입니다.\")"
   ]
  },
  {
   "cell_type": "code",
   "execution_count": 30,
   "metadata": {},
   "outputs": [
    {
     "name": "stdout",
     "output_type": "stream",
     "text": [
      "<class 'float'>\n"
     ]
    }
   ],
   "source": [
    "print(type(float(a)))"
   ]
  },
  {
   "cell_type": "markdown",
   "metadata": {},
   "source": [
    "# 입력과 Type casting"
   ]
  },
  {
   "cell_type": "code",
   "execution_count": 35,
   "metadata": {},
   "outputs": [
    {
     "name": "stdout",
     "output_type": "stream",
     "text": [
      "how old are you?:24\n"
     ]
    }
   ],
   "source": [
    "a=int(input(\"how old are you?:\"))"
   ]
  },
  {
   "cell_type": "markdown",
   "metadata": {},
   "source": [
    "### Exercise 7.  입력과 출력\n",
    "* 사용자로부터 두 개의 숫자를 입력받은 후 두 개의 숫자를 더한 값을 각각 출력하는 프로그램을 작성하세요.\n",
    "\n",
    "Example<br>\n",
    "INPUT: 2 and 4 <br>\n",
    "OUTPUT: <br>\n",
    "\n",
    "6"
   ]
  },
  {
   "cell_type": "code",
   "execution_count": 36,
   "metadata": {},
   "outputs": [
    {
     "name": "stdout",
     "output_type": "stream",
     "text": [
      "2\n",
      "4\n",
      "6\n"
     ]
    }
   ],
   "source": [
    "a= int(input(\"\"))\n",
    "b= int(input(\"\"))\n",
    "print(a+b)"
   ]
  },
  {
   "cell_type": "markdown",
   "metadata": {},
   "source": [
    "### Exercise 8. 입력과 출력\n",
    "* 사용자로부터 두 개의 숫자를 입력받은 후 두 개의 숫자를 더한 값, 곱한 값, 나눈 값을 각각 출력하는 프로그램을 작성하세요.\n",
    "\n",
    "Example<br>\n",
    "INPUT: 2 and 4 <br>\n",
    "OUTPUT: <br>\n",
    "\n",
    "6 <br>\n",
    "8 <br>\n",
    "0.5"
   ]
  },
  {
   "cell_type": "markdown",
   "metadata": {},
   "source": [
    "### Exercise 9.  입력과 출력\n",
    "* 사용자로부터 두 개의 숫자를 입력받은 후 두 개의 숫자를 더한 값, 곱한 값, 나눈 값, 나눈 몫, 나머지 값을 각각 출력하는 프로그램을 작성하세요.\n",
    "\n",
    "Example<br>\n",
    "INPUT: 4 and 4 <br>\n",
    "OUTPUT: <br>\n",
    "\n",
    "8 <br>\n",
    "16 <br>\n",
    "1.0 <br>\n",
    "1 <br>\n",
    "0"
   ]
  },
  {
   "cell_type": "code",
   "execution_count": 37,
   "metadata": {},
   "outputs": [
    {
     "name": "stdout",
     "output_type": "stream",
     "text": [
      "2\n",
      "4\n",
      "6 -2 8 0.5\n"
     ]
    }
   ],
   "source": [
    "a=int(input())\n",
    "b=int(input())\n",
    "\n",
    "print(a+b,a-b,a*b,a/b)"
   ]
  },
  {
   "cell_type": "markdown",
   "metadata": {},
   "source": [
    "### Exercise 10.  입력과 출력\n",
    "* 사용자로부터 두 개의 숫자를 입력받은 후 두 개의 숫자를 더한 값, 곱한 값, 나눈 값, 나눈 몫, 나머지 값을 각각 다음과 같이 출력하는 프로그램을 작성하세요.\n",
    "\n",
    "Example<br>\n",
    "INPUT: 4 and 4 <br>\n",
    "OUTPUT: <br>\n",
    "\n",
    "4 + 4 = 8 <br>\n",
    "4 * 4 = 16 <br>\n",
    "4 / 4 = 1 <br>\n",
    "4 // 4 = 1 <br>\n",
    "4 % 4 = 0 <br>"
   ]
  },
  {
   "cell_type": "code",
   "execution_count": 38,
   "metadata": {},
   "outputs": [
    {
     "name": "stdout",
     "output_type": "stream",
     "text": [
      "3\n",
      "3\n",
      "3 + 3 = 6\n",
      "3 - 3 = 0\n",
      "3 * 3 = 9\n",
      "3 / 3 = 1.0\n",
      "3 // 3 = 1\n",
      "3 % 3 = 0\n"
     ]
    }
   ],
   "source": [
    "a=int (input())\n",
    "b= int (input())\n",
    "print(a,\"+\",b,\"=\",a+b)\n",
    "print(a,\"-\",b,\"=\",a-b)\n",
    "print(a,\"*\",b,\"=\",a*b)\n",
    "print(a,\"/\",b,\"=\",a/b)\n",
    "print(a,\"//\",b,\"=\",a//b)\n",
    "print(a,\"%\",b,'=',a%b)"
   ]
  },
  {
   "cell_type": "markdown",
   "metadata": {},
   "source": [
    "### Exercise 11.  입력과 출력\n",
    "* 사용자로부터 두 개의 숫자를 입력받은 후 두 개의 숫자를 더한 값, 곱한 값, 나눈 값, 나눈 몫, 나머지 값을 각각 다음과 같이 출력하는 프로그램을 작성하세요.\n",
    "  - 단, 나눈 값은 소숫점 첫번째 자리까지만 출력하세요.\n",
    "\n",
    "Example<br>\n",
    "INPUT: 5 and 4 <br>\n",
    "OUTPUT: <br>\n",
    "\n",
    "5 + 4 = 9 <br>\n",
    "5 + 4 = 20 <br>\n",
    "5 / 4 = 1.2 <br>\n",
    "5 // 4 = 1 <br>\n",
    "5 % 4 = 1 <br>"
   ]
  },
  {
   "cell_type": "code",
   "execution_count": 42,
   "metadata": {},
   "outputs": [
    {
     "name": "stdout",
     "output_type": "stream",
     "text": [
      "5\n",
      "4\n",
      "5 + 4 = 9\n",
      "5 - 4 = 1\n",
      "5 * 4 = 20\n",
      "5 / 4 = 1.2\n",
      "5 // 4 = 1\n",
      "5 % 4 = 1\n"
     ]
    }
   ],
   "source": [
    "a=int (input())\n",
    "b= int (input())\n",
    "print(a,\"+\",b,\"=\",a+b)\n",
    "print(a,\"-\",b,\"=\",a-b)\n",
    "print(a,\"*\",b,\"=\",a*b)\n",
    "print(a,\"/\",b,\"=\",\"%.1f\"%(a/b)) \n",
    "print(a,\"//\",b,\"=\",a//b)\n",
    "print(a,\"%\",b,'=',a%b)"
   ]
  },
  {
   "cell_type": "markdown",
   "metadata": {},
   "source": [
    "# 부동소수점 출력\n",
    "\n",
    "## 만약 둘째자리 까지만 출력을 원한다면, print(\"%.2f\"%(a/b))"
   ]
  },
  {
   "cell_type": "code",
   "execution_count": 43,
   "metadata": {},
   "outputs": [
    {
     "name": "stdout",
     "output_type": "stream",
     "text": [
      "5.00\n"
     ]
    }
   ],
   "source": [
    "print(\"%.2f\"%a)"
   ]
  }
 ],
 "metadata": {
  "kernelspec": {
   "display_name": "Python 3",
   "language": "python",
   "name": "python3"
  },
  "language_info": {
   "codemirror_mode": {
    "name": "ipython",
    "version": 3
   },
   "file_extension": ".py",
   "mimetype": "text/x-python",
   "name": "python",
   "nbconvert_exporter": "python",
   "pygments_lexer": "ipython3",
   "version": "3.8.3"
  },
  "nbTranslate": {
   "displayLangs": [
    "*"
   ],
   "hotkey": "alt-t",
   "langInMainMenu": true,
   "sourceLang": "en",
   "targetLang": "fr",
   "useGoogleTranslate": true
  }
 },
 "nbformat": 4,
 "nbformat_minor": 2
}
