{
 "cells": [
  {
   "cell_type": "markdown",
   "metadata": {},
   "source": [
    "# 데이터 구조- 리스트(List), C언어에서 배열!\n",
    "데이터 구조: 연관있는 데이터를 어떻게 컴퓨터로 효율적으로 다룰 수 있을까?\n",
    "\n",
    "\n",
    "리스트\n",
    "\n",
    "\n",
    "여러가지 관계가 있는 데이터를 하나의 변수로 다루는 방법\n",
    "\n",
    "\n",
    "[ ] 안에 , 를 사용해서 데이터를 써넣으면 됨\n",
    "\n",
    "\n",
    "예: mydata = [1, 2, 'hello', 1.2]\n",
    "\n",
    "\n",
    "각 데이터는 인덱스를 사용해서 다룰 수 있음"
   ]
  },
  {
   "cell_type": "code",
   "execution_count": 1,
   "metadata": {},
   "outputs": [
    {
     "name": "stdout",
     "output_type": "stream",
     "text": [
      "서울\n"
     ]
    }
   ],
   "source": [
    "location = [\"서울\",\"경기도\",\"인천\"]\n",
    "print(location[0])"
   ]
  },
  {
   "cell_type": "code",
   "execution_count": 2,
   "metadata": {},
   "outputs": [
    {
     "name": "stdout",
     "output_type": "stream",
     "text": [
      "['서울', '경기도', '인천']\n"
     ]
    }
   ],
   "source": [
    "print(location)"
   ]
  },
  {
   "cell_type": "markdown",
   "metadata": {},
   "source": [
    "# 삽입  \n",
    "# 1.append함수는 리스트에서 요소를 추가해줄때! \n",
    "\n",
    "마지막에 하나만 추가된다. \n",
    "\n",
    "\n",
    "ex) location.append(\"부산시\",\"대구시\") -> 오류"
   ]
  },
  {
   "cell_type": "code",
   "execution_count": 5,
   "metadata": {},
   "outputs": [],
   "source": [
    "location.append(\"부산시\")"
   ]
  },
  {
   "cell_type": "code",
   "execution_count": 4,
   "metadata": {},
   "outputs": [
    {
     "name": "stdout",
     "output_type": "stream",
     "text": [
      "['서울', '경기도', '인천', '부산시']\n"
     ]
    }
   ],
   "source": [
    "print(location)"
   ]
  },
  {
   "cell_type": "code",
   "execution_count": 6,
   "metadata": {},
   "outputs": [
    {
     "name": "stdout",
     "output_type": "stream",
     "text": [
      "['서울', '경기도', '인천']\n"
     ]
    }
   ],
   "source": [
    "print(location[0:3])"
   ]
  },
  {
   "cell_type": "markdown",
   "metadata": {},
   "source": [
    "# 2. insert(1,\"경기도\") \n",
    "\n",
    "## 1번 요소에 경기도를 넣겠다. "
   ]
  },
  {
   "cell_type": "code",
   "execution_count": 18,
   "metadata": {},
   "outputs": [],
   "source": [
    "location.insert(0,\"경기도\")"
   ]
  },
  {
   "cell_type": "code",
   "execution_count": 19,
   "metadata": {},
   "outputs": [
    {
     "name": "stdout",
     "output_type": "stream",
     "text": [
      "['경기도', '경기도', '부산시', '부산시']\n"
     ]
    }
   ],
   "source": [
    "print(location)"
   ]
  },
  {
   "cell_type": "markdown",
   "metadata": {},
   "source": [
    "# 삭제\n",
    "# 1. remove, 특정 데이터를 지칭"
   ]
  },
  {
   "cell_type": "code",
   "execution_count": 12,
   "metadata": {},
   "outputs": [
    {
     "name": "stdout",
     "output_type": "stream",
     "text": [
      "['인천', '부산시', '부산시']\n"
     ]
    }
   ],
   "source": [
    "location.remove(\"서울\")\n",
    "print(location)"
   ]
  },
  {
   "cell_type": "code",
   "execution_count": 13,
   "metadata": {
    "scrolled": true
   },
   "outputs": [
    {
     "data": {
      "text/plain": [
       "['인천', '부산시', '부산시']"
      ]
     },
     "execution_count": 13,
     "metadata": {},
     "output_type": "execute_result"
    }
   ],
   "source": [
    "location"
   ]
  },
  {
   "cell_type": "markdown",
   "metadata": {},
   "source": [
    "# 2. del location[0] ->인천 삭제(리스트의 0번 요소 삭제) , delete"
   ]
  },
  {
   "cell_type": "code",
   "execution_count": 14,
   "metadata": {},
   "outputs": [],
   "source": [
    "del location[0]"
   ]
  },
  {
   "cell_type": "code",
   "execution_count": 15,
   "metadata": {},
   "outputs": [
    {
     "data": {
      "text/plain": [
       "['부산시', '부산시']"
      ]
     },
     "execution_count": 15,
     "metadata": {},
     "output_type": "execute_result"
    }
   ],
   "source": [
    "location"
   ]
  },
  {
   "cell_type": "markdown",
   "metadata": {},
   "source": [
    "# 리스트 초기화\n",
    "## 1. 리스트 변수=[]\n",
    "## 2. 리스트 변수= list() -> 파이썬에서 공식으로 권장\n",
    "## 3. 리스트변수 = [데이터1,데이터2,........]\n",
    "\n",
    "# 리스트 추가 \n",
    "## 1. 리스트변수.append(\"\")\n",
    "## 2. 리스트변수.insert(인덱스 번호,\"\")\n",
    "\n",
    "# 리스트 삭제 \n",
    "## 1. 리스트변수.remove(\"\")\n",
    "## 2. del 리스트변수[인덱스]\n",
    "\n",
    "# 리스트 수정 \n",
    "## 해당 인덱스 지정 후 변경 해주면 끝"
   ]
  },
  {
   "cell_type": "code",
   "execution_count": 20,
   "metadata": {},
   "outputs": [],
   "source": [
    "location=[]"
   ]
  },
  {
   "cell_type": "code",
   "execution_count": 21,
   "metadata": {},
   "outputs": [
    {
     "data": {
      "text/plain": [
       "[]"
      ]
     },
     "execution_count": 21,
     "metadata": {},
     "output_type": "execute_result"
    }
   ],
   "source": [
    "location"
   ]
  },
  {
   "cell_type": "code",
   "execution_count": 22,
   "metadata": {},
   "outputs": [],
   "source": [
    "location.append(\"경기도\")"
   ]
  },
  {
   "cell_type": "code",
   "execution_count": 23,
   "metadata": {},
   "outputs": [],
   "source": [
    "location.append(\"부산시\")"
   ]
  },
  {
   "cell_type": "code",
   "execution_count": 24,
   "metadata": {},
   "outputs": [
    {
     "data": {
      "text/plain": [
       "['경기도', '부산시']"
      ]
     },
     "execution_count": 24,
     "metadata": {},
     "output_type": "execute_result"
    }
   ],
   "source": [
    "location"
   ]
  },
  {
   "cell_type": "code",
   "execution_count": 25,
   "metadata": {},
   "outputs": [],
   "source": [
    "location [1]='부천시'"
   ]
  },
  {
   "cell_type": "code",
   "execution_count": 26,
   "metadata": {},
   "outputs": [
    {
     "data": {
      "text/plain": [
       "['경기도', '부천시']"
      ]
     },
     "execution_count": 26,
     "metadata": {},
     "output_type": "execute_result"
    }
   ],
   "source": [
    "location"
   ]
  },
  {
   "cell_type": "code",
   "execution_count": 27,
   "metadata": {},
   "outputs": [],
   "source": [
    "location=list()"
   ]
  },
  {
   "cell_type": "markdown",
   "metadata": {},
   "source": [
    "# SmallProject1\n",
    "처음 리스트 변수 데이터\n",
    "\n",
    "\n",
    "lang = [\"java\", \"c\", \"c++\"]\n",
    "\n",
    "\n",
    "리스트 함수 활용해서 다음과 같이 리스트 만들기\n",
    "\n",
    "\n",
    "lang = [\"java\", \"c\", \"c++\", \"golang\"]"
   ]
  },
  {
   "cell_type": "code",
   "execution_count": 28,
   "metadata": {},
   "outputs": [],
   "source": [
    "lang=[\"java\",\"c\",\"c++\"]"
   ]
  },
  {
   "cell_type": "code",
   "execution_count": 29,
   "metadata": {},
   "outputs": [],
   "source": [
    "lang.append(\"golang\")"
   ]
  },
  {
   "cell_type": "code",
   "execution_count": 30,
   "metadata": {},
   "outputs": [
    {
     "data": {
      "text/plain": [
       "['java', 'c', 'c++', 'golang']"
      ]
     },
     "execution_count": 30,
     "metadata": {},
     "output_type": "execute_result"
    }
   ],
   "source": [
    "lang"
   ]
  },
  {
   "cell_type": "code",
   "execution_count": 31,
   "metadata": {},
   "outputs": [],
   "source": [
    "del lang[3]"
   ]
  },
  {
   "cell_type": "code",
   "execution_count": 32,
   "metadata": {},
   "outputs": [
    {
     "data": {
      "text/plain": [
       "['java', 'c', 'c++']"
      ]
     },
     "execution_count": 32,
     "metadata": {},
     "output_type": "execute_result"
    }
   ],
   "source": [
    "lang"
   ]
  },
  {
   "cell_type": "code",
   "execution_count": 36,
   "metadata": {},
   "outputs": [
    {
     "data": {
      "text/plain": [
       "['c', 'java', 'java', 'c', 'c++']"
      ]
     },
     "execution_count": 36,
     "metadata": {},
     "output_type": "execute_result"
    }
   ],
   "source": [
    "lang"
   ]
  },
  {
   "cell_type": "markdown",
   "metadata": {},
   "source": [
    "# lang=['c','java','c++']로 삭제하라 "
   ]
  },
  {
   "cell_type": "code",
   "execution_count": 37,
   "metadata": {},
   "outputs": [
    {
     "data": {
      "text/plain": [
       "['c', 'java', 'java', 'c', 'c++']"
      ]
     },
     "execution_count": 37,
     "metadata": {},
     "output_type": "execute_result"
    }
   ],
   "source": [
    "lang"
   ]
  },
  {
   "cell_type": "code",
   "execution_count": 38,
   "metadata": {},
   "outputs": [
    {
     "data": {
      "text/plain": [
       "['c', 'java', 'c']"
      ]
     },
     "execution_count": 38,
     "metadata": {},
     "output_type": "execute_result"
    }
   ],
   "source": [
    "del lang[2]\n",
    "del lang[3]\n",
    "lang"
   ]
  },
  {
   "cell_type": "code",
   "execution_count": 39,
   "metadata": {},
   "outputs": [
    {
     "data": {
      "text/plain": [
       "['c', 'java', 'c']"
      ]
     },
     "execution_count": 39,
     "metadata": {},
     "output_type": "execute_result"
    }
   ],
   "source": [
    "lang"
   ]
  },
  {
   "cell_type": "code",
   "execution_count": 40,
   "metadata": {},
   "outputs": [],
   "source": [
    "lang[2]='c++'"
   ]
  },
  {
   "cell_type": "code",
   "execution_count": 41,
   "metadata": {},
   "outputs": [
    {
     "data": {
      "text/plain": [
       "['c', 'java', 'c++']"
      ]
     },
     "execution_count": 41,
     "metadata": {},
     "output_type": "execute_result"
    }
   ],
   "source": [
    "lang"
   ]
  },
  {
   "cell_type": "markdown",
   "metadata": {},
   "source": [
    "# 리스트 데이터 정렬하기-> 변수명.sort() \n",
    "numbers = [2, 1, 4, 3]\n",
    "\n",
    "\n",
    "print(numbers)\n",
    "\n",
    "\n",
    "numbers.sort()\n",
    "\n",
    "\n",
    "print(numbers)\n",
    "\n",
    "\n",
    "## 1,2,3,4\n",
    "\n",
    "# 리스트 데이터 역순으로 정렬하기->\n",
    "# 변수명.reverse()\n",
    "\n",
    "\n",
    "numbers = [2, 1, 4, 3]\n",
    "\n",
    "\n",
    "numbers.reverse()\n",
    "\n",
    "\n",
    "print(numbers)\n",
    "\n",
    "## 4,3,2,1\n",
    "\n",
    "# sort와 reverse는 리스트 본래의 변수 값 자체를 바꾼다. "
   ]
  },
  {
   "cell_type": "code",
   "execution_count": 42,
   "metadata": {},
   "outputs": [],
   "source": [
    "digit=[3,412,43,32]"
   ]
  },
  {
   "cell_type": "code",
   "execution_count": 44,
   "metadata": {},
   "outputs": [
    {
     "data": {
      "text/plain": [
       "[3, 32, 43, 412]"
      ]
     },
     "execution_count": 44,
     "metadata": {},
     "output_type": "execute_result"
    }
   ],
   "source": [
    "digit.sort()\n",
    "digit"
   ]
  },
  {
   "cell_type": "code",
   "execution_count": 45,
   "metadata": {},
   "outputs": [
    {
     "data": {
      "text/plain": [
       "[412, 43, 32, 3]"
      ]
     },
     "execution_count": 45,
     "metadata": {},
     "output_type": "execute_result"
    }
   ],
   "source": [
    "digit.reverse()\n",
    "digit"
   ]
  },
  {
   "cell_type": "markdown",
   "metadata": {},
   "source": [
    "# 문자열 특수 함수와 리스트\n",
    "\n",
    "\n",
    "python_is_easy = \"python is easy\"\n",
    "\n",
    "\n",
    "python_is_easy.split() \n",
    "\n",
    "-> split()함수는 띄어쓰기 한 부분을 단위로 리스트 결과값으로 출력해준다. \n",
    "\n",
    "하지만, 이는 본래의 리스트 변수를 바꾸는 것은 아니므로, 스페이스를 단위로 저\n",
    "\n",
    "장하려면 새로운 변수에 저장해준다. \n",
    "\n",
    "ex) string_python_is_easy = python_is_easy.split()"
   ]
  },
  {
   "cell_type": "code",
   "execution_count": 48,
   "metadata": {},
   "outputs": [
    {
     "data": {
      "text/plain": [
       "['python', 'is', 'easy']"
      ]
     },
     "execution_count": 48,
     "metadata": {},
     "output_type": "execute_result"
    }
   ],
   "source": [
    "python_is_easy=\"python is easy\"\n",
    "python_is_easy.split() #본래의 리스트 값을 바꾸지는 못한다. "
   ]
  },
  {
   "cell_type": "code",
   "execution_count": 50,
   "metadata": {},
   "outputs": [
    {
     "data": {
      "text/plain": [
       "'python is easy'"
      ]
     },
     "execution_count": 50,
     "metadata": {},
     "output_type": "execute_result"
    }
   ],
   "source": [
    "python_is_easy # 그저 문자열로 출력할 뿐이다. "
   ]
  },
  {
   "cell_type": "code",
   "execution_count": 51,
   "metadata": {},
   "outputs": [],
   "source": [
    "string_python_is_easy=python_is_easy.split()"
   ]
  },
  {
   "cell_type": "code",
   "execution_count": 52,
   "metadata": {},
   "outputs": [
    {
     "data": {
      "text/plain": [
       "['python', 'is', 'easy']"
      ]
     },
     "execution_count": 52,
     "metadata": {},
     "output_type": "execute_result"
    }
   ],
   "source": [
    "string_python_is_easy"
   ]
  },
  {
   "cell_type": "markdown",
   "metadata": {},
   "source": [
    "# SmallProject2\n",
    "## 나이를 입력받아서, 나이가 19 이상이면 당신은 성인입니다. 출력하기"
   ]
  },
  {
   "cell_type": "code",
   "execution_count": 56,
   "metadata": {},
   "outputs": [
    {
     "name": "stdout",
     "output_type": "stream",
     "text": [
      "당신의 나이는?18\n",
      "18\n"
     ]
    }
   ],
   "source": [
    "nai=int(input(\"당신의 나이는?\"))\n",
    "print(nai)"
   ]
  },
  {
   "cell_type": "code",
   "execution_count": 59,
   "metadata": {},
   "outputs": [
    {
     "name": "stdout",
     "output_type": "stream",
     "text": [
      "당신은 성인이 아닙니다.\n"
     ]
    }
   ],
   "source": [
    "if nai>19:\n",
    "    print(\"당신은 성인입니다.\")\n",
    "else :\n",
    "    print(\"당신은 성인이 아닙니다.\")"
   ]
  },
  {
   "cell_type": "markdown",
   "metadata": {},
   "source": [
    "if 조건:\n",
    "\n",
    "\n",
    "    실행문1\n",
    "\n",
    "\n",
    "    실행문2\n",
    "\n",
    "\n",
    "if 조건1 and 조건2: -> 둘다 맞을때 \n",
    "\n",
    "\n",
    "    실행문\n",
    "\n",
    "\n",
    "if 조건1 or 조건2: -> 하나라도 맞을때  \n",
    "\n",
    "    \n",
    "    실행문\n",
    "if not 조건:\n",
    "   \n",
    "   \n",
    "    실행문"
   ]
  },
  {
   "cell_type": "code",
   "execution_count": 60,
   "metadata": {},
   "outputs": [
    {
     "name": "stdout",
     "output_type": "stream",
     "text": [
      "철수의 나이는?19\n",
      "영희의 나이는?19\n",
      "19금\n"
     ]
    }
   ],
   "source": [
    "age1 = int (input(\"철수의 나이는?\"))\n",
    "age2 = int (input(\"영희의 나이는?\"))\n",
    "\n",
    "if age1 >=19 or age2>=19:\n",
    "    print(\"19금\")"
   ]
  },
  {
   "cell_type": "code",
   "execution_count": 61,
   "metadata": {},
   "outputs": [
    {
     "name": "stdout",
     "output_type": "stream",
     "text": [
      "가진 돈을 입력해봐:10001\n",
      "레스토랑 가자\n"
     ]
    }
   ],
   "source": [
    "cash = int (input (\"가진 돈을 입력해봐:\"))\n",
    "if cash>10000:\n",
    "    print(\"레스토랑 가자\")"
   ]
  },
  {
   "cell_type": "code",
   "execution_count": 62,
   "metadata": {},
   "outputs": [
    {
     "name": "stdout",
     "output_type": "stream",
     "text": [
      "당신의 나이는?1\n",
      "당신은 청소년입니다.\n"
     ]
    }
   ],
   "source": [
    "age = int(input(\"당신의 나이는?\"))\n",
    "if age>=20:\n",
    "    print (\"당신은 성인입니다.\")\n",
    "else :\n",
    "    print(\"당신은 청소년입니다.\")"
   ]
  },
  {
   "cell_type": "markdown",
   "metadata": {},
   "source": [
    "# SmallProject5\n",
    "나이를 입력받아서, 나이가 19 이상이면\n",
    "\n",
    "\n",
    "당신은 성인입니다.\n",
    "\n",
    "\n",
    "13 이상 19 이하 이면\n",
    "\n",
    "\n",
    "당신은 청소년입니다.\n",
    "\n",
    "\n",
    "13 이하 이면\n",
    "\n",
    "\n",
    "당신은 아동입니다.\n",
    "\n",
    "\n",
    "출력하기\n",
    "\n",
    "\n",
    "age = input(\"나이는?\")"
   ]
  },
  {
   "cell_type": "code",
   "execution_count": 69,
   "metadata": {},
   "outputs": [
    {
     "name": "stdout",
     "output_type": "stream",
     "text": [
      "나이는?13\n",
      "당신은 청소년입니다.\n"
     ]
    }
   ],
   "source": [
    "age= int (input (\"나이는?\"))\n",
    "if age>=19:\n",
    "    print(\"당신은 성인입니다.\")\n",
    "elif age>=13 and age<19:\n",
    "    print(\"당신은 청소년입니다.\")\n",
    "elif age<13:\n",
    "    print(\"당신은 아동입니다.\")"
   ]
  },
  {
   "cell_type": "markdown",
   "metadata": {},
   "source": [
    "# 파이썬에서는 \n",
    "## &&-> and\n",
    "## || -> or "
   ]
  },
  {
   "cell_type": "markdown",
   "metadata": {},
   "source": [
    "# 조건문 안에 조건문\n",
    " if 조건1:\n",
    " \n",
    "     실행문1\n",
    " else:\n",
    " \n",
    "   if 조건2:\n",
    " \n",
    "    실행문2\n",
    " \n",
    " else:\n",
    " \n",
    "    실행문3"
   ]
  },
  {
   "cell_type": "code",
   "execution_count": 70,
   "metadata": {},
   "outputs": [
    {
     "name": "stdout",
     "output_type": "stream",
     "text": [
      "당신은 얼마있나요?0\n",
      "집\n"
     ]
    }
   ],
   "source": [
    "cash = int(input(\"당신은 얼마있나요?\"))\n",
    "if cash>10000:\n",
    "    print(\"레스토랑\")\n",
    "else :\n",
    "    if cash>5000:\n",
    "        print(\"밥집\")\n",
    "    else:\n",
    "        print(\"집\")"
   ]
  }
 ],
 "metadata": {
  "kernelspec": {
   "display_name": "Python 3",
   "language": "python",
   "name": "python3"
  },
  "language_info": {
   "codemirror_mode": {
    "name": "ipython",
    "version": 3
   },
   "file_extension": ".py",
   "mimetype": "text/x-python",
   "name": "python",
   "nbconvert_exporter": "python",
   "pygments_lexer": "ipython3",
   "version": "3.8.3"
  }
 },
 "nbformat": 4,
 "nbformat_minor": 4
}
