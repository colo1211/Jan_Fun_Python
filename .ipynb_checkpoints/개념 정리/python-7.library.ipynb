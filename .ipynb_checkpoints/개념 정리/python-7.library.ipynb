{
 "cells": [
  {
   "cell_type": "markdown",
   "metadata": {},
   "source": [
    "## 1. 파이썬 라이브러리"
   ]
  },
  {
   "cell_type": "markdown",
   "metadata": {},
   "source": [
    "### 라이브러리: 미리 만들어놓은 함수 집합, 이름이 있음"
   ]
  },
  {
   "cell_type": "markdown",
   "metadata": {},
   "source": [
    "### 예제: 지수승 구하기 (예: $3^3$) - 함수로 만들어보기"
   ]
  },
  {
   "cell_type": "code",
   "execution_count": 2,
   "metadata": {},
   "outputs": [
    {
     "data": {
      "text/plain": [
       "27"
      ]
     },
     "execution_count": 2,
     "metadata": {},
     "output_type": "execute_result"
    }
   ],
   "source": [
    "3 ** 3"
   ]
  },
  {
   "cell_type": "markdown",
   "metadata": {},
   "source": [
    "### 임의의 숫자와 지수를 입력으로 받아서, 지수승 구하기"
   ]
  },
  {
   "cell_type": "code",
   "execution_count": 2,
   "metadata": {},
   "outputs": [],
   "source": [
    "def exponential(digit, exponent):\n",
    "    value = digit ** exponent\n",
    "    return value"
   ]
  },
  {
   "cell_type": "code",
   "execution_count": 3,
   "metadata": {
    "scrolled": false
   },
   "outputs": [
    {
     "name": "stdout",
     "output_type": "stream",
     "text": [
      "27\n"
     ]
    }
   ],
   "source": [
    "print (exponential(3, 3))"
   ]
  },
  {
   "cell_type": "markdown",
   "metadata": {},
   "source": [
    "### 수학함수들을 모아놓은 라이브러리가 있음 - math 라이브러리\n",
    "* pow 라는 이름으로 지수승을 계산해주는 함수를 구현"
   ]
  },
  {
   "cell_type": "code",
   "execution_count": 5,
   "metadata": {},
   "outputs": [
    {
     "name": "stdout",
     "output_type": "stream",
     "text": [
      "27.0\n"
     ]
    }
   ],
   "source": [
    "import math # 라이브러리를 끌어온다. import \n",
    "num = math.pow(3, 3) #math 라이브러리에 pow함수를 쓴다. (지수승을 해주는 함수)\n",
    "print (num)"
   ]
  },
  {
   "cell_type": "markdown",
   "metadata": {},
   "source": [
    "* math 라이브러리에 factorial 라는 이름으로 펙토리얼 (예: 5! 는 1 x 2 x 3 x 4 x 5)을 계산해주는 함수를 구현해놓았음 -> 반복문을 쓰지 않고 바로 사용 가능 "
   ]
  },
  {
   "cell_type": "code",
   "execution_count": 6,
   "metadata": {},
   "outputs": [
    {
     "data": {
      "text/plain": [
       "120"
      ]
     },
     "execution_count": 6,
     "metadata": {},
     "output_type": "execute_result"
    }
   ],
   "source": [
    "math.factorial(5)"
   ]
  },
  {
   "cell_type": "markdown",
   "metadata": {},
   "source": [
    "### 얼마나 많은 함수들이 math 라이브러리에 있을까?\n",
    "* https://docs.python.org/3/library/math.html"
   ]
  },
  {
   "cell_type": "markdown",
   "metadata": {},
   "source": [
    "### 라이브러리 사용하기 - 기본 사용법1: import 라이브러리\n",
    "\n",
    "\n",
    "* import 라이브러리명 <br>\n",
    "\n",
    "\n",
    "\n",
    "* 라이브러리명.함수명()\n"
   ]
  },
  {
   "cell_type": "markdown",
   "metadata": {},
   "source": [
    "### 예: math 라이브러리에 있는 factorial() 함수 사용하기\n",
    "\n",
    "```python\n",
    "import math\n",
    "\n",
    "math.factorial(5)\n",
    "```\n",
    "\n",
    "* 해당 라이브러리에 있는 함수를 사용하기 위해서는 해당 라이브러리명.함수명으로 써야 함\n",
    "  - math.factorial(5): math 라이브러리에 있는 factorial() 함수를 사용"
   ]
  },
  {
   "cell_type": "code",
   "execution_count": 19,
   "metadata": {},
   "outputs": [
    {
     "name": "stdout",
     "output_type": "stream",
     "text": [
      "120\n"
     ]
    }
   ],
   "source": [
    "import math\n",
    "\n",
    "print (math.factorial(5))"
   ]
  },
  {
   "cell_type": "markdown",
   "metadata": {},
   "source": [
    "### 라이브러리 사용하기 - 기본 사용법2 : from 라이브러리 import 함수\n",
    "### 특정 함수만 쓰고 싶을때 이 방법을 사용한다. \n",
    "* 라이브러리에서 일부 함수만 라이브러리 \n",
    "함수만을 불러 사용하기 위해서는 다음과 같이 from 라이브러명 import 함수명 으로 사용\n",
    "* 마치 해당 함수를 현재 코드 상단에 선언한 것과 마찬가지가 됨\n",
    "  - 라이브러리명.함수명 으로 쓰지 않고 함수명만 쓰면 됨\n",
    "      -> math.sqrt(5)이런식으로 하지 않고 sqrt(5)만 하면 된다."
   ]
  },
  {
   "cell_type": "code",
   "execution_count": 6,
   "metadata": {},
   "outputs": [
    {
     "name": "stdout",
     "output_type": "stream",
     "text": [
      "2.23606797749979\n",
      "120\n"
     ]
    }
   ],
   "source": [
    "# math 라이브러리에 있는 함수 중, sqrt, factorial 함수만 import\n",
    "from math import sqrt, factorial  \n",
    "\n",
    "num = sqrt(5) #from 으로 끌어온다면, math.~~를 하지 않아도 된다. \n",
    "print (num)\n",
    "num2 = factorial(5)\n",
    "print (num2)"
   ]
  },
  {
   "cell_type": "code",
   "execution_count": 7,
   "metadata": {},
   "outputs": [
    {
     "name": "stdout",
     "output_type": "stream",
     "text": [
      "120\n"
     ]
    }
   ],
   "source": [
    "# math 라이브러리에 있는 함수 중, sqrt, factorial 함수만 import\n",
    "from math import sqrt, factorial #math 라이브러리에서 본인이 쓰고 싶은 함수만 끌어온다.\n",
    "\n",
    "num = sqrt(5)\n",
    "num2 = factorial(5)\n",
    "\n",
    "print (num2)"
   ]
  },
  {
   "cell_type": "markdown",
   "metadata": {},
   "source": [
    "### 다음과 같이 쓰면, 해당 라이브러리에 있는 모든 함수를 라이브러리명 없이 쓸 수 있음 from math import * -> *을 써서, math에 있는 모든 함수를 사용하겠다는 의미. 따라서, math.을 안하고 사용 가능하다. "
   ]
  },
  {
   "cell_type": "code",
   "execution_count": 7,
   "metadata": {},
   "outputs": [
    {
     "name": "stdout",
     "output_type": "stream",
     "text": [
      "8.23606797749979\n"
     ]
    }
   ],
   "source": [
    "# math 라이브러리에 있는 모든 함수를 import\n",
    "from math import *\n",
    "num = sqrt(5) + factorial(3) \n",
    "print (num)"
   ]
  },
  {
   "cell_type": "code",
   "execution_count": 8,
   "metadata": {},
   "outputs": [
    {
     "name": "stdout",
     "output_type": "stream",
     "text": [
      "8.23606797749979\n"
     ]
    }
   ],
   "source": [
    "from math import *\n",
    "num = sqrt(5) + factorial(3) \n",
    "print (num)"
   ]
  },
  {
   "cell_type": "markdown",
   "metadata": {},
   "source": [
    "### 라이브러리 사용하기 - 기본 사용법3 :라이브러리에 별명을 붙여 사용. : import math as m\n",
    "* -> m.sqrt(3) "
   ]
  },
  {
   "cell_type": "code",
   "execution_count": 9,
   "metadata": {},
   "outputs": [
    {
     "name": "stdout",
     "output_type": "stream",
     "text": [
      "120\n"
     ]
    }
   ],
   "source": [
    "import math as d\n",
    "num = d.factorial(5)\n",
    "print (num)"
   ]
  },
  {
   "cell_type": "markdown",
   "metadata": {},
   "source": [
    "### 라이브러리가 없으면! 자기 PC에서 실행이 안됨 -- 설치하면 됨\n",
    "* 터미널 (맥은 terminal 프로그램, 윈도우는 Anaconda Prompt 프로그램을 실행해서 다음과 같은 특별한 명령을 수행)\n",
    "  - pip install 라이브러리명\n"
   ]
  },
  {
   "cell_type": "markdown",
   "metadata": {},
   "source": [
    "<div class=\"alert alert-block alert-success\">\n",
    "<strong><font color=\"blue\" size=\"4em\">연습</font></strong><br>\n",
    "PC마다 환경이 달라서 안될 수 있으니, 예로만 설명드림</div>"
   ]
  },
  {
   "cell_type": "markdown",
   "metadata": {},
   "source": [
    "* 예: \n",
    "  - pip install --upgrade 라이브러리명\n",
    "    + 라이브러리가 이미 설치되어 있으면, 최신 버전으로 업데이트해라\n",
    "    + 예: pip install --upgrade google-api-python-client\n",
    "\n",
    "- pip install googletrans"
   ]
  },
  {
   "cell_type": "markdown",
   "metadata": {},
   "source": [
    "### 실습\n",
    "- pip install --upgrade google-api-python-client\n",
    "- pip install googletrans"
   ]
  },
  {
   "cell_type": "markdown",
   "metadata": {},
   "source": [
    "# 쥬피터 노트에서도 앞에 !를 붙이면, 터미널 역할을 할 수 있다. "
   ]
  },
  {
   "cell_type": "code",
   "execution_count": 8,
   "metadata": {},
   "outputs": [
    {
     "name": "stdout",
     "output_type": "stream",
     "text": [
      "Requirement already up-to-date: google-api-python-client in c:\\users\\color\\anaconda3\\lib\\site-packages (1.12.3)\n",
      "Requirement already satisfied, skipping upgrade: google-api-core<2dev,>=1.21.0 in c:\\users\\color\\anaconda3\\lib\\site-packages (from google-api-python-client) (1.22.2)\n",
      "Requirement already satisfied, skipping upgrade: six<2dev,>=1.13.0 in c:\\users\\color\\anaconda3\\lib\\site-packages (from google-api-python-client) (1.15.0)\n",
      "Requirement already satisfied, skipping upgrade: google-auth-httplib2>=0.0.3 in c:\\users\\color\\anaconda3\\lib\\site-packages (from google-api-python-client) (0.0.4)\n",
      "Requirement already satisfied, skipping upgrade: google-auth>=1.16.0 in c:\\users\\color\\anaconda3\\lib\\site-packages (from google-api-python-client) (1.22.0)\n",
      "Requirement already satisfied, skipping upgrade: httplib2<1dev,>=0.15.0 in c:\\users\\color\\anaconda3\\lib\\site-packages (from google-api-python-client) (0.18.1)\n",
      "Requirement already satisfied, skipping upgrade: uritemplate<4dev,>=3.0.0 in c:\\users\\color\\anaconda3\\lib\\site-packages (from google-api-python-client) (3.0.1)\n",
      "Requirement already satisfied, skipping upgrade: protobuf>=3.12.0 in c:\\users\\color\\anaconda3\\lib\\site-packages (from google-api-core<2dev,>=1.21.0->google-api-python-client) (3.13.0)\n",
      "Requirement already satisfied, skipping upgrade: requests<3.0.0dev,>=2.18.0 in c:\\users\\color\\anaconda3\\lib\\site-packages (from google-api-core<2dev,>=1.21.0->google-api-python-client) (2.24.0)\n",
      "Requirement already satisfied, skipping upgrade: pytz in c:\\users\\color\\anaconda3\\lib\\site-packages (from google-api-core<2dev,>=1.21.0->google-api-python-client) (2020.1)\n",
      "Requirement already satisfied, skipping upgrade: googleapis-common-protos<2.0dev,>=1.6.0 in c:\\users\\color\\anaconda3\\lib\\site-packages (from google-api-core<2dev,>=1.21.0->google-api-python-client) (1.52.0)\n",
      "Requirement already satisfied, skipping upgrade: setuptools>=34.0.0 in c:\\users\\color\\anaconda3\\lib\\site-packages (from google-api-core<2dev,>=1.21.0->google-api-python-client) (49.2.0.post20200714)\n",
      "Requirement already satisfied, skipping upgrade: pyasn1-modules>=0.2.1 in c:\\users\\color\\anaconda3\\lib\\site-packages (from google-auth>=1.16.0->google-api-python-client) (0.2.8)\n",
      "Requirement already satisfied, skipping upgrade: cachetools<5.0,>=2.0.0 in c:\\users\\color\\anaconda3\\lib\\site-packages (from google-auth>=1.16.0->google-api-python-client) (4.1.1)\n",
      "Requirement already satisfied, skipping upgrade: aiohttp<4.0.0dev,>=3.6.2; python_version >= \"3.6\" in c:\\users\\color\\anaconda3\\lib\\site-packages (from google-auth>=1.16.0->google-api-python-client) (3.6.2)\n",
      "Requirement already satisfied, skipping upgrade: rsa<5,>=3.1.4; python_version >= \"3.5\" in c:\\users\\color\\anaconda3\\lib\\site-packages (from google-auth>=1.16.0->google-api-python-client) (4.6)\n",
      "Requirement already satisfied, skipping upgrade: urllib3!=1.25.0,!=1.25.1,<1.26,>=1.21.1 in c:\\users\\color\\anaconda3\\lib\\site-packages (from requests<3.0.0dev,>=2.18.0->google-api-core<2dev,>=1.21.0->google-api-python-client) (1.25.9)\n",
      "Requirement already satisfied, skipping upgrade: certifi>=2017.4.17 in c:\\users\\color\\anaconda3\\lib\\site-packages (from requests<3.0.0dev,>=2.18.0->google-api-core<2dev,>=1.21.0->google-api-python-client) (2020.6.20)\n",
      "Requirement already satisfied, skipping upgrade: chardet<4,>=3.0.2 in c:\\users\\color\\anaconda3\\lib\\site-packages (from requests<3.0.0dev,>=2.18.0->google-api-core<2dev,>=1.21.0->google-api-python-client) (3.0.4)\n",
      "Requirement already satisfied, skipping upgrade: idna<3,>=2.5 in c:\\users\\color\\anaconda3\\lib\\site-packages (from requests<3.0.0dev,>=2.18.0->google-api-core<2dev,>=1.21.0->google-api-python-client) (2.10)\n",
      "Requirement already satisfied, skipping upgrade: pyasn1<0.5.0,>=0.4.6 in c:\\users\\color\\anaconda3\\lib\\site-packages (from pyasn1-modules>=0.2.1->google-auth>=1.16.0->google-api-python-client) (0.4.8)\n",
      "Requirement already satisfied, skipping upgrade: multidict<5.0,>=4.5 in c:\\users\\color\\anaconda3\\lib\\site-packages (from aiohttp<4.0.0dev,>=3.6.2; python_version >= \"3.6\"->google-auth>=1.16.0->google-api-python-client) (4.7.6)\n",
      "Requirement already satisfied, skipping upgrade: attrs>=17.3.0 in c:\\users\\color\\anaconda3\\lib\\site-packages (from aiohttp<4.0.0dev,>=3.6.2; python_version >= \"3.6\"->google-auth>=1.16.0->google-api-python-client) (19.3.0)\n",
      "Requirement already satisfied, skipping upgrade: yarl<2.0,>=1.0 in c:\\users\\color\\anaconda3\\lib\\site-packages (from aiohttp<4.0.0dev,>=3.6.2; python_version >= \"3.6\"->google-auth>=1.16.0->google-api-python-client) (1.6.0)\n",
      "Requirement already satisfied, skipping upgrade: async-timeout<4.0,>=3.0 in c:\\users\\color\\anaconda3\\lib\\site-packages (from aiohttp<4.0.0dev,>=3.6.2; python_version >= \"3.6\"->google-auth>=1.16.0->google-api-python-client) (3.0.1)\n"
     ]
    }
   ],
   "source": [
    "!pip install --upgrade google-api-python-client"
   ]
  },
  {
   "cell_type": "code",
   "execution_count": 9,
   "metadata": {},
   "outputs": [
    {
     "name": "stdout",
     "output_type": "stream",
     "text": [
      "Requirement already satisfied: googletrans in c:\\users\\color\\anaconda3\\lib\\site-packages (3.0.0)\n",
      "Requirement already satisfied: httpx==0.13.3 in c:\\users\\color\\anaconda3\\lib\\site-packages (from googletrans) (0.13.3)\n",
      "Requirement already satisfied: sniffio in c:\\users\\color\\anaconda3\\lib\\site-packages (from httpx==0.13.3->googletrans) (1.1.0)\n",
      "Requirement already satisfied: hstspreload in c:\\users\\color\\anaconda3\\lib\\site-packages (from httpx==0.13.3->googletrans) (2020.9.29)\n",
      "Requirement already satisfied: httpcore==0.9.* in c:\\users\\color\\anaconda3\\lib\\site-packages (from httpx==0.13.3->googletrans) (0.9.1)\n",
      "Requirement already satisfied: chardet==3.* in c:\\users\\color\\anaconda3\\lib\\site-packages (from httpx==0.13.3->googletrans) (3.0.4)\n",
      "Requirement already satisfied: idna==2.* in c:\\users\\color\\anaconda3\\lib\\site-packages (from httpx==0.13.3->googletrans) (2.10)\n",
      "Requirement already satisfied: certifi in c:\\users\\color\\anaconda3\\lib\\site-packages (from httpx==0.13.3->googletrans) (2020.6.20)\n",
      "Requirement already satisfied: rfc3986<2,>=1.3 in c:\\users\\color\\anaconda3\\lib\\site-packages (from httpx==0.13.3->googletrans) (1.4.0)\n",
      "Requirement already satisfied: h2==3.* in c:\\users\\color\\anaconda3\\lib\\site-packages (from httpcore==0.9.*->httpx==0.13.3->googletrans) (3.2.0)\n",
      "Requirement already satisfied: h11<0.10,>=0.8 in c:\\users\\color\\anaconda3\\lib\\site-packages (from httpcore==0.9.*->httpx==0.13.3->googletrans) (0.9.0)\n",
      "Requirement already satisfied: hpack<4,>=3.0 in c:\\users\\color\\anaconda3\\lib\\site-packages (from h2==3.*->httpcore==0.9.*->httpx==0.13.3->googletrans) (3.0.0)\n",
      "Requirement already satisfied: hyperframe<6,>=5.2.0 in c:\\users\\color\\anaconda3\\lib\\site-packages (from h2==3.*->httpcore==0.9.*->httpx==0.13.3->googletrans) (5.2.0)\n"
     ]
    }
   ],
   "source": [
    "!pip install googletrans"
   ]
  },
  {
   "cell_type": "code",
   "execution_count": 10,
   "metadata": {},
   "outputs": [
    {
     "name": "stdout",
     "output_type": "stream",
     "text": [
      "I fastened my bag and went to school.\n"
     ]
    }
   ],
   "source": [
    "from googletrans import Translator\n",
    "dave = Translator()\n",
    "word = dave.translate('나는 가방을 매고 학교에 갔습니다.', dest='en', src='ko') #dest= 도착어 , src= 시작어 \n",
    "print (word.text)"
   ]
  },
  {
   "cell_type": "code",
   "execution_count": 11,
   "metadata": {},
   "outputs": [
    {
     "data": {
      "text/plain": [
       "'Hello'"
      ]
     },
     "execution_count": 11,
     "metadata": {},
     "output_type": "execute_result"
    }
   ],
   "source": [
    "Translator().translate('안녕하세요', dest='en', src='ko').text"
   ]
  },
  {
   "cell_type": "markdown",
   "metadata": {},
   "source": [
    "<div class=\"alert alert-block alert-success\">\n",
    "<strong><font color=\"blue\" size=\"4em\">연습</font></strong><br>\n",
    "원하는 문장을 넣고 영어로 바꿔보기</div>"
   ]
  },
  {
   "cell_type": "code",
   "execution_count": null,
   "metadata": {
    "collapsed": true
   },
   "outputs": [],
   "source": [
    "from googletrans import Translator\n",
    "translator = Translator()\n",
    "trans = translator.translate('안녕하세요', dest='en', src='ko')\n",
    "print (trans.text)"
   ]
  },
  {
   "cell_type": "markdown",
   "metadata": {},
   "source": [
    "<div class=\"alert alert-block alert-success\">\n",
    "<strong><font color=\"blue\" size=\"4em\">연습</font></strong><br>\n",
    "원하는 문장을 넣고 일본어로 바꿔보기 (dest='ja')</div>"
   ]
  },
  {
   "cell_type": "code",
   "execution_count": 14,
   "metadata": {},
   "outputs": [
    {
     "name": "stdout",
     "output_type": "stream",
     "text": [
      "こんにちは\n"
     ]
    }
   ],
   "source": [
    "from googletrans import Translator\n",
    "translator = Translator()\n",
    "trans = translator.translate('안녕하세요', dest='ja', src='ko')\n",
    "print (trans.text)"
   ]
  },
  {
   "cell_type": "markdown",
   "metadata": {},
   "source": [
    "<div class=\"alert alert-block alert-success\">\n",
    "<strong><font color=\"blue\" size=\"4em\">연습</font></strong><br>\n",
    "라이브러리를 임포트 하는 부분을 다음과 같이 수정하였을 때, 다음 코드가 정상적으로 동작하도록 수정해보세요\n",
    "<pre>\n",
    "import googletrans\n",
    "translator = Translator()\n",
    "trans = translator.translate('안녕하세요', dest='en', src='ko')\n",
    "print (trans.text)\n",
    "</pre>\n",
    "</div>"
   ]
  },
  {
   "cell_type": "code",
   "execution_count": 13,
   "metadata": {},
   "outputs": [
    {
     "name": "stdout",
     "output_type": "stream",
     "text": [
      "Hello\n"
     ]
    }
   ],
   "source": [
    "import googletrans\n",
    "translator = googletrans.Translator()\n",
    "trans = translator.translate('안녕하세요', dest='en', src='ko')\n",
    "print (trans.text)"
   ]
  },
  {
   "cell_type": "markdown",
   "metadata": {},
   "source": [
    "<div class=\"alert alert-block alert-success\">\n",
    "<strong><font color=\"blue\" size=\"4em\">연습</font></strong><br>\n",
    "라이브러리를 임포트 하는 부분을 다음과 같이 수정하였을 때, 다음 코드가 정상적으로 동작하도록 수정해보세요\n",
    "<pre>\n",
    "import googletrans as ts\n",
    "translator = Translator()\n",
    "trans = translator.translate('안녕하세요', dest='en', src='ko')\n",
    "print (trans.text)\n",
    "</pre>\n",
    "</div>"
   ]
  },
  {
   "cell_type": "code",
   "execution_count": 24,
   "metadata": {},
   "outputs": [
    {
     "name": "stdout",
     "output_type": "stream",
     "text": [
      "Good morning\n"
     ]
    }
   ],
   "source": [
    "import googletrans as ts\n",
    "translator = ts.Translator()\n",
    "trans = translator.translate('안녕하세요', dest='en', src='ko')\n",
    "print (trans.text)"
   ]
  },
  {
   "cell_type": "markdown",
   "metadata": {},
   "source": [
    "<div class=\"alert alert-block alert-success\">\n",
    "<strong><font color=\"blue\" size=\"4em\">연습</font></strong><br>\n",
    "라이브러리를 임포트 하는 부분을 다음과 같이 수정하였을 때, 다음 코드가 정상적으로 동작하도록 수정해보세요\n",
    "<pre>\n",
    "from googletrans import Translator as ts\n",
    "translator = Translator()\n",
    "trans = translator.translate('안녕하세요', dest='en', src='ko')\n",
    "print (trans.text)\n",
    "</pre>\n",
    "</div>"
   ]
  },
  {
   "cell_type": "code",
   "execution_count": 15,
   "metadata": {},
   "outputs": [
    {
     "name": "stdout",
     "output_type": "stream",
     "text": [
      "Hello\n"
     ]
    }
   ],
   "source": [
    "from googletrans import Translator as ts\n",
    "translator = ts()\n",
    "trans = translator.translate('안녕하세요', dest='en', src='ko')\n",
    "print (trans.text)"
   ]
  },
  {
   "cell_type": "markdown",
   "metadata": {},
   "source": [
    "### 라이브러리에 어떤 함수가 있는지? 어떻게 쓰는지는 어떻게 알 수 있을까요?\n",
    "* 특정 라이브러리는 해당 함수를 익히는데 굉장한 시간이 소요\n",
    "* 대부분의 라이브러리는 구글 을 통해 검색하면 사용법을 찾을 수 있음\n",
    "* 대부분의 라이브러리들이 라이브러리 사용법을 웹을 통해 가이드 함\n",
    "  - 블로그가 더 이해하기 쉬운 경우가 많음"
   ]
  },
  {
   "cell_type": "markdown",
   "metadata": {},
   "source": [
    "* 예: https://github.com/ssut/py-googletrans"
   ]
  }
 ],
 "metadata": {
  "kernelspec": {
   "display_name": "Python 3",
   "language": "python",
   "name": "python3"
  },
  "language_info": {
   "codemirror_mode": {
    "name": "ipython",
    "version": 3
   },
   "file_extension": ".py",
   "mimetype": "text/x-python",
   "name": "python",
   "nbconvert_exporter": "python",
   "pygments_lexer": "ipython3",
   "version": "3.8.3"
  },
  "nbTranslate": {
   "displayLangs": [
    "*"
   ],
   "hotkey": "alt-t",
   "langInMainMenu": true,
   "sourceLang": "en",
   "targetLang": "fr",
   "useGoogleTranslate": true
  }
 },
 "nbformat": 4,
 "nbformat_minor": 1
}
