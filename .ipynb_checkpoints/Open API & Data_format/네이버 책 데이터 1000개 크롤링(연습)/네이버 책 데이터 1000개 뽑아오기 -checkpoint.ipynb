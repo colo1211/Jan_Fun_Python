{
 "cells": [
  {
   "cell_type": "code",
   "execution_count": 34,
   "metadata": {},
   "outputs": [],
   "source": [
    "import pprint #json 파일을 구조화 시켜서 출력해줌 \n",
    "import requests #웹 페이지와의 연결 \n",
    "import json #res.json()을 통해 data에 자료를 담는다. \n",
    "import openpyxl #엑셀 라이브러리 \n",
    "\n",
    "client_id='RH5iJEjCi1aaPIkg2ya1' # 네이버 openapi\n",
    "client_secret='6CdgUEz83U'\n",
    "start =1 # start_num에 담아서 데이터를 1000개 뽑는 요령 \n",
    "num = -1 #항목 앞에 번호 \n",
    "excel_file = openpyxl.Workbook()\n",
    "excel_sheet = excel_file.active\n",
    "excel_sheet.column_dimensions['B'].width=200\n",
    "excel_sheet.column_dimensions['D'].width=100\n",
    "excel_sheet.append(['번호','책 이름','가격','저자']) # 맨 위에 항목 지정\n",
    "\n",
    "for i in range(10): #데이터를 1000개 뽑아내기 위한 반복문\n",
    "    start_num = start + (i*100) #api에서 최대 100개씩 데이터를 뽑아올 수 있기 때문에 (display=100이 최대)\n",
    "    naver_url = 'https://openapi.naver.com/v1/search/book.json?query=데이터과학&display=100&start='+str(start_num)\n",
    "    headers_param={'x-Naver-Client-id':client_id, 'X-Naver-Client-Secret':client_secret}\n",
    "    res=requests.get(naver_url,headers=headers_param) #(주소, headers=)\n",
    "    if res.status_code==200: #웹사이트가 제대로 전송 되었을때  \n",
    "        data = res.json() # json 데이터를 data에 담는다. \n",
    "        #pprint.pprint(data)\n",
    "        for i in data['items']: # 딕셔너리 형 json 자료를 뽑아서 \n",
    "            num+=1\n",
    "            excel_sheet.append([num+1,i['title'].strip('<b>'),i['price'],i['author']]) #엑셀에 저장한다. \n",
    "    else:\n",
    "        print (\"ERROR :\",res.status_code)\n",
    "excel_file.save('데이터과학 추천도서 1000권.xls')\n",
    "excel_file.close()"
   ]
  },
  {
   "cell_type": "markdown",
   "metadata": {},
   "source": [
    "## https://openapi.naver.com/v1/search/book.json?query=데이터과학&display=100&start="
   ]
  },
  {
   "cell_type": "markdown",
   "metadata": {},
   "source": [
    "#### 여기서 쇼핑몰 URL은 https://openapi.naver.com/v1/search/book.json 여기까지 주어진다. </br>\n",
    "#### 나는 여기서 네가지 항목을 지정 할 수 있는데 </br>\n",
    "#### 1. query(검색어) 2.display(검색 개수, 최대 100개) 3. start(어디서부터 시작할까?) 4. sort(최신순, 오래된 순 등 정렬) </br> \n",
    "#### 주어진 URL 뒤에 ?를 입력하고 query=데이터과학 으로 입력하면 데이터를 가져올 수 있다. "
   ]
  }
 ],
 "metadata": {
  "kernelspec": {
   "display_name": "Python 3",
   "language": "python",
   "name": "python3"
  },
  "language_info": {
   "codemirror_mode": {
    "name": "ipython",
    "version": 3
   },
   "file_extension": ".py",
   "mimetype": "text/x-python",
   "name": "python",
   "nbconvert_exporter": "python",
   "pygments_lexer": "ipython3",
   "version": "3.8.3"
  }
 },
 "nbformat": 4,
 "nbformat_minor": 4
}
