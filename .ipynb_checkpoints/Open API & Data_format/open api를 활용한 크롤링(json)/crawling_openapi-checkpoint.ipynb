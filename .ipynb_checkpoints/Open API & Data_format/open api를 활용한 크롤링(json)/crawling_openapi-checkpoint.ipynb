{
 "cells": [
  {
   "cell_type": "markdown",
   "metadata": {},
   "source": [
    "## Open API(Rest API)를 활용한 크롤링\n",
    "\n",
    "### Open API(Rest API)란?\n",
    " - **API:** Application Programming Interface의 약자로, 특정 프로그램을 만들기 위해 제공되는 모듈(함수 등)을 의미 , '프로그래밍 언어에서 제공해주는 함수'\n",
    " - **Open API:** 공개 API라고도 불리우며, 누구나 사용할 수 있도록 공개된 API (주로 Rest API 기술을 많이 사용함) ex) 정부 공공 데이터\n",
    " \n",
    " ### 대부분의 사이트가 openapi를 제공 developers.naver.com \n",
    " \n",
    " \n",
    " - **Rest API:** Representational State Transfer API의 약자로, HTTP프로토콜을 통해 서버 제공 기능을 사용할 수 있는 함수를 의미 , 다시 전달해주는 데이터가 HTML 일 필요는 없지 않을까? 따라서, 정보만 전달하면 되는 것 아닌가? \n",
    "   - 일반적으로 XML, JSON의 형태로 응답을 전달(원하는 데이터 추출이 수월)\n",
    "   - [참고 - RestAPI란](http://hyunalee.tistory.com/1)\n",
    "## 즉,Rest API는 호스트가 정보를 요청(ex. site link) 했을때, 반환해주는 것이 HTML 문서가 아닌 데이터의 형태로 다시 전달해주는 것을 의미 \n",
    "\n",
    "#### openapi에서 제공해주는 dataformat을 이해하면 크롤링을 쉽게 해 올수 있다. \n",
    "#### 따라서, openapi dataformat에 대해서 이해한다. "
   ]
  },
  {
   "cell_type": "markdown",
   "metadata": {},
   "source": [
    "### JSON 이란? (딕셔너리 형 다루는 것과 동일하다) \n",
    " - JavaScript Object Notation 줄임말\n",
    " - 웹환경에서 서버와 클라이언트 사이에 데이터를 주고 받을때 많이 사용\n",
    "   - Rest API가 주요한 예제\n",
    " - JSON 포멧 예 , 딕셔너리 형과 동일하다.<br>\n",
    " { \"id\":\"01\", \"language\": \"Java\", \"edition\": \"third\", \"author\": \"Herbert Schildt\" }\n",
    " <br>\n",
    " <br>\n",
    " \n",
    " - 참고 (https://books.google.co.kr/books?id=euSiAwAAQBAJ&pg=PT1755&lpg=PT1755&dq=json+%EC%9E%A5%EC%A0%90&source=bl&ots=VjTIoOjbTK&sig=3t7MXA7g2CvEi8SyD0-GQVywzw0&hl=ko&sa=X&ved=0ahUKEwiwo8OvxJfWAhXDsJQKHYaBDpI4ChDoAQhVMAg#v=onepage&q=json%20%EC%9E%A5%EC%A0%90&f=false)\n",
    "\n",
    " 출처: http://dpug.tistory.com/67#.WbycWshJaUk [퍼그의 전초기지]"
   ]
  },
  {
   "cell_type": "markdown",
   "metadata": {},
   "source": [
    "# json 이 설치가 안되어 있다면\n",
    "## pip install json "
   ]
  },
  {
   "cell_type": "code",
   "execution_count": 3,
   "metadata": {},
   "outputs": [
    {
     "name": "stderr",
     "output_type": "stream",
     "text": [
      "ERROR: Invalid requirement: '#이미'\n"
     ]
    }
   ],
   "source": [
    "!pip install json #이미 설치가 되어있음"
   ]
  },
  {
   "cell_type": "markdown",
   "metadata": {},
   "source": [
    "## 기억해야 하는 것 \n",
    "### 1. import json \n",
    "### 2. json_data=json.loads('data')"
   ]
  },
  {
   "cell_type": "code",
   "execution_count": 23,
   "metadata": {},
   "outputs": [
    {
     "name": "stdout",
     "output_type": "stream",
     "text": [
      "Mon, 12 Oct 2020 09:05:27 +0900\n",
      "The Sunday Read: ‘David’s Ankles’\n",
      "https://www.nytimes.com/2020/10/11/podcasts/the-daily/michelangelo-david-italy.html?partner=naver\n"
     ]
    }
   ],
   "source": [
    "import json #json 라이브러리 임포트\n",
    "\n",
    "# 네이버 쇼핑에서, android 라는 키워드로 검색한 상품 리스트 결과\n",
    " #따옴표 3개로 여러 데이터를 하나의 변수에 담을 수 있다. \n",
    "data = \"\"\"\n",
    "{\n",
    "    \"lastBuildDate\": \"Mon, 12 Oct 2020 09:05:27 +0900\",\n",
    "    \"total\": 22940,\n",
    "    \"start\": 1,\n",
    "    \"display\": 10,\n",
    "    \"items\": [\n",
    "        {\n",
    "            \"title\": \"The Sunday Read: ‘David’s Ankles’\",\n",
    "            \"originallink\": \"https://www.nytimes.com/2020/10/11/podcasts/the-daily/michelangelo-david-italy.html?partner=naver\",\n",
    "            \"link\": \"https://www.nytimes.com/2020/10/11/podcasts/the-daily/michelangelo-david-italy.html?partner=naver\",\n",
    "            \"description\": \"To hear more audio stories from publishers like The New York Times, download Audm for iPhone or <b>Android</b>. INSIDE ‘THE DAILY’ For an exclusive look at how the biggest stories on our show come... \",\n",
    "            \"pubDate\": \"Sun, 11 Oct 2020 22:01:00 +0900\"\n",
    "        },\n",
    "        {\n",
    "            \"title\": \"'소형 SUV 뛰어넘는 자유로움' 2021 티볼리 에어\",\n",
    "            \"originallink\": \"http://www.chungnamilbo.co.kr/news/articleView.html?idxno=565078\",\n",
    "            \"link\": \"http://www.chungnamilbo.co.kr/news/articleView.html?idxno=565078\",\n",
    "            \"description\": \"10.25&quot; 디지털 클러스터와 9&quot; AVN 스크린을 포함하는 블레이즈 콕핏(Blaze Cockpit)을 통해 인포콘과 애플 카플레이(Apple CarPlay), 안드로이드 오토(<b>Android</b> Auto)를 비롯한 다양한 콘텐츠를 고해상도 그래픽으로 즐길... \",\n",
    "            \"pubDate\": \"Sun, 11 Oct 2020 14:02:00 +0900\"\n",
    "        },\n",
    "        {\n",
    "            \"title\": \"미국인 72% &quot;주사율 낮아도 OLED가 좋아&quot;\",\n",
    "            \"originallink\": \"http://www.incheonilbo.com/news/articleView.html?idxno=1061481\",\n",
    "            \"link\": \"http://www.incheonilbo.com/news/articleView.html?idxno=1061481\",\n",
    "            \"description\": \"11일 업계에 따르면 미국 유명 IT 매체 안드로이드 오토리티(<b>Android</b> Authority)가 최근 진행한 설문조사에서 응답자 8695명 중 72%가 주사율이 높은 LCD(액정표시장치)보다 주사율이 낮더라도 OLED를 선택하겠다고 답했다.... \",\n",
    "            \"pubDate\": \"Sun, 11 Oct 2020 11:22:00 +0900\"\n",
    "        },\n",
    "        {\n",
    "            \"title\": \"미국인 72% &quot;주사율 낮아도 OLED가 좋아&quot;…삼성디스플레이 호재\",\n",
    "            \"originallink\": \"http://yna.kr/AKR20201009063700003?did=1195m\",\n",
    "            \"link\": \"https://news.naver.com/main/read.nhn?mode=LSD&mid=sec&sid1=101&oid=001&aid=0011934275\",\n",
    "            \"description\": \"11일 업계에 따르면 미국 유명 IT 매체 안드로이드 오토리티(<b>Android</b> Authority)가 최근 진행한 설문조사에서 응답자 8천695명 중 72%가 주사율이 높은 LCD(액정표시장치)보다 주사율이 낮더라도 OLED를 선택하겠다고 답했다.... \",\n",
    "            \"pubDate\": \"Sun, 11 Oct 2020 10:00:00 +0900\"\n",
    "        },\n",
    "        {\n",
    "            \"title\": \"The Tech That Might Help Cyclists and Cars Coexist Safely\",\n",
    "            \"originallink\": \"https://www.nytimes.com/2020/10/09/business/bicycle-safety-cars.html?partner=naver\",\n",
    "            \"link\": \"https://www.nytimes.com/2020/10/09/business/bicycle-safety-cars.html?partner=naver\",\n",
    "            \"description\": \"<b>Android</b> phones could be used, for example, by cyclists in conjunction with inexpensive sensors on bicycles. In Turin, the issue of information overload also became apparent. An occasional bike... \",\n",
    "            \"pubDate\": \"Sat, 10 Oct 2020 03:58:00 +0900\"\n",
    "        },\n",
    "        {\n",
    "            \"title\": \"[주간#신상태그] 아모레퍼시픽·애경산업·스파오·테팔·해비치 외\",\n",
    "            \"originallink\": \"http://www.newsprime.co.kr/news/article.html?no=520394\",\n",
    "            \"link\": \"http://www.newsprime.co.kr/news/article.html?no=520394\",\n",
    "            \"description\": \"iOS 및 안드로이드(<b>Android</b>) 휴대폰에서 'Jacquard by Google(자카드 by 구글)' 애플리케이션(앱)을 설치한 후 '브러시 업(쓸어올리기)' '브러시 다운(쓸어내리기)' '더블 탭(두 번 두드리기)' 등 동작별로 카메라 실행, 음악 컨트롤... \",\n",
    "            \"pubDate\": \"Fri, 09 Oct 2020 22:06:00 +0900\"\n",
    "        },\n",
    "        {\n",
    "            \"title\": \"더픽트, '오프라인 박람회와 유사한 경험' 3D 가상박람회 플랫폼 구축\",\n",
    "            \"originallink\": \"http://www.job-post.co.kr/news/articleView.html?idxno=8535\",\n",
    "            \"link\": \"http://www.job-post.co.kr/news/articleView.html?idxno=8535\",\n",
    "            \"description\": \"'3D 가상박람회' 플랫폼은 Windows, Mac을 비롯한 데스크톱 버전과 <b>Android</b>, iOS 등 모바일 OS에서 모두 구현된다. 이는 애플리케이션이나 PC 클라이언트(프로그램)를 설치하지 않고 웹상에서 즉시 구현되는 Web VR 기술을... \",\n",
    "            \"pubDate\": \"Fri, 09 Oct 2020 10:00:00 +0900\"\n",
    "        },\n",
    "        {\n",
    "            \"title\": \"더픽트, 오프라인 박람회 구현 '3D 가상박람회 플랫폼' 구축\",\n",
    "            \"originallink\": \"http://www.pointn.net/news/articleView.html?idxno=22059\",\n",
    "            \"link\": \"http://www.pointn.net/news/articleView.html?idxno=22059\",\n",
    "            \"description\": \"'3D 가상박람회' 플랫폼은 Windows, Mac을 비롯한 데스크톱 버전과 <b>Android</b>, iOS 등 모바일 OS에서 모두 구현된다. 이는 애플리케이션이나 PC 클라이언트(프로그램)를 설치하지 않고 웹상에서 즉시 구현되는 Web VR 기술을... \",\n",
    "            \"pubDate\": \"Fri, 09 Oct 2020 10:00:00 +0900\"\n",
    "        },\n",
    "        {\n",
    "            \"title\": \"더픽트, 3D 가상박람회 플랫폼 구축…정보와 제품구매 유도까지 실질적 도움\",\n",
    "            \"originallink\": \"http://www.nbnnews.co.kr/news/articleView.html?idxno=430844\",\n",
    "            \"link\": \"http://www.nbnnews.co.kr/news/articleView.html?idxno=430844\",\n",
    "            \"description\": \"'3D 가상박람회' 플랫폼은 Windows, Mac을 비롯한 데스크톱 버전과 <b>Android</b>, iOS 등 모바일 OS에서 모두 구현된다. 이는 애플리케이션이나 PC 클라이언트(프로그램)를 설치하지 않고 웹상에서 즉시 구현되는 Web VR 기술을... \",\n",
    "            \"pubDate\": \"Fri, 09 Oct 2020 10:00:00 +0900\"\n",
    "        },\n",
    "        {\n",
    "            \"title\": \"더픽트, 3D 가상박람회 플랫폼 구축\",\n",
    "            \"originallink\": \"http://www.gvalley.co.kr/news/articleView.html?idxno=573990\",\n",
    "            \"link\": \"http://www.gvalley.co.kr/news/articleView.html?idxno=573990\",\n",
    "            \"description\": \"3D 가상박람회 플랫폼은 Windows, Mac을 비롯한 데스크톱 버전과 <b>Android</b>, iOS 등 모바일 OS에서 모두 구현된다. 이는 애플리케이션이나 PC 클라이언트(프로그램)를 설치하지 않고 웹상에서 즉시 구현되는 Web VR 기술을... \",\n",
    "            \"pubDate\": \"Fri, 09 Oct 2020 09:02:00 +0900\"\n",
    "        }\n",
    "    ]\n",
    "}\n",
    "\"\"\"\n",
    "\n",
    "json_data = json.loads(data) #json.loads()함수에 데이터를 넣으면 파싱 결과가 넘어간다.\n",
    "# 딕셔너리 데이터형을 쓰듯이 활용하면 된다. \n",
    "print (json_data['lastBuildDate'])\n",
    "print (json_data['items'][0]['title'])\n",
    "print (json_data['items'][0]['link'])"
   ]
  },
  {
   "cell_type": "markdown",
   "metadata": {},
   "source": [
    "### 네이버 검색 Open API를 이용한 크롤링 초간단 실습\n",
    " - https://developers.naver.com/main/\n",
    " - [블로그 검색 가이드 문서](https://developers.naver.com/docs/search/blog/)\n",
    "   - 네이버 Open API 이용신청 [참고](http://hnark.tistory.com/135)"
   ]
  },
  {
   "cell_type": "markdown",
   "metadata": {},
   "source": [
    "# postman(포스트맨)\n",
    " \n",
    "\n",
    "* 네이버 OPEN API 툴을 통해서 뉴스에 대한 링크를 주게 되면 JSON/XML 형태로 데이터를 반환해주는 툴이다. 크롤링 할때 매우 유용하다. \n",
    "링크 구성 ex) www.naver.com~~~~~~ query=value(검색어)"
   ]
  },
  {
   "cell_type": "markdown",
   "metadata": {},
   "source": [
    "- postman 설치 (https://www.getpostman.com/downloads/) \n",
    "  - (상세 가이드: http://www.a-mean-blog.com/ko/blog/Node-JS-API/_/API-%ED%85%8C%EC%8A%A4%ED%8A%B8-%ED%94%84%EB%A1%9C%EA%B7%B8%EB%9E%A8-Postman-%EC%84%A4%EC%B9%98%EB%B0%8F-%EA%B0%84%EB%8B%A8-%EC%82%AC%EC%9A%A9%EB%B2%95)\n",
    "\n",
    "- 사용법(포스트맨)\n",
    "   1. Sign Up in Postman\n",
    "   2. Insert https://openapi.naver.com/v1/search/news.json?query=스마트 into GET\n",
    "   3. Add X-Naver-Client-Id(key), <font color=\"blue\">CsODwdUTyG9vOI1uIeIf</font>(value) into Headers\n",
    "   4. Add X-Naver-Client-Secret(key), <font color=\"blue\">YmIx0GW8JG</font>(value) into Headers\n",
    "   5. Send\n",
    "   <img src=\"._postman.png\" />"
   ]
  },
  {
   "cell_type": "markdown",
   "metadata": {},
   "source": [
    "- [참고: 네이버 Open API HTTP 응답 상태 에러 코드 목록1](https://developers.naver.com/docs/common/openapiguide/#/errorcode.md)\n",
    "- [참고: 일반적인 HTTP 응답 상태 코드](http://ooz.co.kr/260) "
   ]
  },
  {
   "cell_type": "markdown",
   "metadata": {},
   "source": [
    "### 네이버 Open API 사용하기"
   ]
  },
  {
   "cell_type": "code",
   "execution_count": 45,
   "metadata": {},
   "outputs": [
    {
     "name": "stdout",
     "output_type": "stream",
     "text": [
      "1 삼성전자 <b>갤럭시노트10</b> 256GB SM-N971N [자급제] https://search.shopping.naver.com/gate.nhn?id=20899748682\n",
      "2 삼성전자 <b>갤럭시노트10</b>플러스 256GB SM-N976N [자급제] https://search.shopping.naver.com/gate.nhn?id=20555101149\n",
      "3 [SK 기기변경 ]삼성전자 <b>갤럭시노트10</b> 256GB 공시약정, 선택약정25% 완납폰 https://search.shopping.naver.com/gate.nhn?id=22499747844\n",
      "4 <b>갤럭시 노트10</b> 256G SKT[5G] https://search.shopping.naver.com/gate.nhn?id=24113559883\n",
      "5 삼성전자 <b>갤럭시노트10</b>플러스 256GB SM-N976S [SKT 기기변경] https://search.shopping.naver.com/gate.nhn?id=20554996135\n",
      "6 삼성전자 [KT 기기변경] <b>갤럭시노트10</b> 5G 256G 공시지원금 슈퍼플랜 베이직 초이스 요금제 현금완납 https://search.shopping.naver.com/gate.nhn?id=23341462021\n",
      "7 삼성전자 <b>갤럭시노트10</b> 256GB SM-N971S [SKT 기기변경] https://search.shopping.naver.com/gate.nhn?id=20552943544\n",
      "8 삼성전자 <b>갤럭시노트10</b>플러스 256GB SM-N976K [KT 기기변경] https://search.shopping.naver.com/gate.nhn?id=20554188925\n",
      "9 <b>갤럭시노트10</b> 특판 https://search.shopping.naver.com/gate.nhn?id=82607257827\n",
      "10 삼성전자 <b>갤럭시노트10</b>라이트 128GB 듀얼심 빠른특송 기프트3종 https://search.shopping.naver.com/gate.nhn?id=22095677484\n"
     ]
    }
   ],
   "source": [
    "import requests\n",
    "import pprint\n",
    "\n",
    "client_id = 'RH5iJEjCi1aaPIkg2ya1'\n",
    "client_secret ='buP_LMKHcI'\n",
    "\n",
    "naver_open_api = 'https://openapi.naver.com/v1/search/shop.json?query=갤럭시노트10'\n",
    "header_params = {\"X-Naver-Client-Id\":client_id, \"X-Naver-Client-Secret\":client_secret}\n",
    "res = requests.get(naver_open_api, headers=header_params)\n",
    "\n",
    "if res.status_code == 200:\n",
    "    data = res.json()\n",
    "    for index, item in enumerate(data['items']):\n",
    "        print (index + 1, item['title'], item['link'])\n",
    "else:\n",
    "    print (\"Error Code:\", res.status_code)\n",
    "\n"
   ]
  },
  {
   "cell_type": "markdown",
   "metadata": {},
   "source": [
    "## import pprint - json 데이터를 구조화 시켜서 출력해준다. \n",
    "### pprint.pprint()"
   ]
  },
  {
   "cell_type": "code",
   "execution_count": 43,
   "metadata": {},
   "outputs": [
    {
     "name": "stdout",
     "output_type": "stream",
     "text": [
      "1 번 기사: [브랜드평판] <b>대학교</b> 브랜드 2020년 10월 빅데이터 분석결과...1위 서울대, 2... http://www.futurekorea.co.kr/news/articleView.html?idxno=141167\n",
      "2 번 기사: [빅데이터로본다] <b>대학교</b> 2020년 10월 브랜드평판... 1위 서울대, 2위 고려대... http://www.dtoday.co.kr/news/articleView.html?idxno=383267\n",
      "3 번 기사: (4) 양종훈 <b>상명대</b>학교 디지털이미지학과 교수 http://www.jejunews.com/news/articleView.html?idxno=2172982\n",
      "4 번 기사: 충남도, 한글날 맞아 '좋은 가게 이름 공모전' 실시 http://www.ccdailynews.com/news/articleView.html?idxno=2009388\n",
      "5 번 기사: 세상을 바꾸는 사진가, 해녀를 알리다 http://www.jejunews.com/news/articleView.html?idxno=2172961\n",
      "6 번 기사: 해녀의 숨비소리, 순간을 기록하다 http://www.jejunews.com/news/articleView.html?idxno=2172966\n",
      "7 번 기사: 충남도, 한글날 맞아 '좋은 가게 이름 공모전' 실시 http://www.cctoday.co.kr/news/articleView.html?idxno=2098586\n",
      "8 번 기사: 양종훈 <b>상명대</b>학교 디지털이미지학과 교수 http://www.jejunews.com/news/articleView.html?idxno=2172955\n",
      "9 번 기사: 충남도 이달까지 '좋은 가게 이름 공모전' 진행 http://www.ggilbo.com/news/articleView.html?idxno=801022\n",
      "10 번 기사: 한글날 맞아 '좋은 가게 이름 공모전' http://www.nbnnews.co.kr/news/articleView.html?idxno=431024\n"
     ]
    }
   ],
   "source": [
    "import requests\n",
    "import json\n",
    "import pprint #json데이터를 구조적으로 출력해준다. \n",
    "client_id = 'RH5iJEjCi1aaPIkg2ya1'\n",
    "client_secret='buP_LMKHcI'\n",
    "\n",
    "naver_openapi_url = 'https://openapi.naver.com/v1/search/news.json?query=상명대학교'\n",
    "header_params={'x-Naver-Client-id':client_id,'X-Naver-Client-Secret':client_secret}\n",
    "\n",
    "res= requests.get(naver_openapi_url,headers=header_params) #헤더 값을 추가해서 requests한다. \n",
    "if res.status_code == 200: # res.status_code==200 (정상적으로 로딩) res.status_code==404(로딩 실패)\n",
    "    data= res.json()\n",
    "    # pprint.pprint (data) #데이터가 너무 너저분하게 출력되니까 import pprint\n",
    "    for index,i in enumerate(data['items']):\n",
    "        print(index+1,\"번 기사:\",i['title'],i['link'])\n",
    "else : \n",
    "    print (\"Error code: \", res.status_code)"
   ]
  },
  {
   "cell_type": "markdown",
   "metadata": {},
   "source": [
    "# 네이버 쇼핑 데이터 크롤링 후 엑셀 보고서 만들기"
   ]
  },
  {
   "cell_type": "code",
   "execution_count": 2,
   "metadata": {
    "scrolled": true
   },
   "outputs": [
    {
     "name": "stdout",
     "output_type": "stream",
     "text": [
      "Error Code: 401\n",
      "Error Code: 401\n",
      "Error Code: 401\n",
      "Error Code: 401\n",
      "Error Code: 401\n",
      "Error Code: 401\n",
      "Error Code: 401\n",
      "Error Code: 401\n",
      "Error Code: 401\n",
      "Error Code: 401\n"
     ]
    }
   ],
   "source": [
    "import requests\n",
    "import openpyxl\n",
    "\n",
    "client_id = 'BTMVavws8Is7jmVpUcSL'\n",
    "client_secret = 'sDgiapg86l'\n",
    "start, num = 1, 0\n",
    "\n",
    "excel_file = openpyxl.Workbook()\n",
    "excel_sheet = excel_file.active\n",
    "excel_sheet.column_dimensions['B'].width = 100\n",
    "excel_sheet.column_dimensions['C'].width = 100\n",
    "excel_sheet.append(['랭킹', '제목', '링크'])\n",
    "\n",
    "for index in range(10):\n",
    "    start_number = start + (index * 100)\n",
    "    naver_open_api = 'https://openapi.naver.com/v1/search/shop.json?query=샤오미&display=100&start=' + str(start_number)\n",
    "    header_params = {\"X-Naver-Client-Id\":client_id, \"X-Naver-Client-Secret\":client_secret}\n",
    "    res = requests.get(naver_open_api, headers=header_params)\n",
    "    if res.status_code == 200:\n",
    "        data = res.json()\n",
    "        for item in data['items']:\n",
    "            num += 1\n",
    "            excel_sheet.append([num, item['title'], item['link']])\n",
    "    else:\n",
    "        print (\"Error Code:\", res.status_code)\n",
    "\n",
    "excel_file.save('IT.xlsx')\n",
    "excel_file.close()"
   ]
  },
  {
   "cell_type": "markdown",
   "metadata": {},
   "source": [
    "## 나는 네이버 쇼핑에서 샤오미를 검색하고, 1000개의 데이터를 뽑아오고 싶지만 네이버 api에서 지원하는 최대 데이터의 개수는 100개이다. (display=100) 따라서, 반복문으로 url을 만들어 준다. "
   ]
  },
  {
   "cell_type": "code",
   "execution_count": 62,
   "metadata": {},
   "outputs": [],
   "source": [
    "import requests\n",
    "import json\n",
    "import pprint #json데이터를 구조적으로 출력해준다. \n",
    "import openpyxl\n",
    "\n",
    "client_id = 'RH5iJEjCi1aaPIkg2ya1'\n",
    "client_secret='buP_LMKHcI'\n",
    "\n",
    "start= 1\n",
    "num = 0\n",
    "\n",
    "excel_file = openpyxl.Workbook()\n",
    "excel_sheet =excel_file.active\n",
    "excel_sheet.column_dimensions['B'].width=100\n",
    "excel_sheet.column_dimensions['C'].width=100\n",
    "\n",
    "for i in range(10):\n",
    "    start_num = start + (i*100)\n",
    "    naver_openapi_url = 'https://openapi.naver.com/v1/search/shop.json?query=샤오미&display=100&start='+ str(start_num) \n",
    "    header_params={'x-Naver-Client-id':client_id,'X-Naver-Client-Secret':client_secret}\n",
    "    \n",
    "    res= requests.get(naver_openapi_url,headers=header_params) #헤더 값을 추가해서 requests한다. \n",
    "    if res.status_code == 200: # res.status_code==200 (정상적으로 로딩) res.status_code==404(로딩 실패)\n",
    "        data= res.json()\n",
    "        # pprint.pprint (data) #데이터가 너무 너저분하게 출력되니까 import pprint\n",
    "        for i in data['items']:\n",
    "            num +=1 #여기서 enumerate와 index를 쓰면 100개까지만 출력됨. 따라서, 100개 출력후 101부터 다시 카운트 해줄 수 있는 num 변수 선언한다. \n",
    "            excel_sheet.append([num,i['title'],i['link']])\n",
    "    else : \n",
    "        print (\"Error code: \", res.status_code)\n",
    "excel_file.save('xiaomi.xls')\n",
    "excel_file.close ()"
   ]
  }
 ],
 "metadata": {
  "kernelspec": {
   "display_name": "Python 3",
   "language": "python",
   "name": "python3"
  },
  "language_info": {
   "codemirror_mode": {
    "name": "ipython",
    "version": 3
   },
   "file_extension": ".py",
   "mimetype": "text/x-python",
   "name": "python",
   "nbconvert_exporter": "python",
   "pygments_lexer": "ipython3",
   "version": "3.8.3"
  },
  "nbTranslate": {
   "displayLangs": [
    "*"
   ],
   "hotkey": "alt-t",
   "langInMainMenu": true,
   "sourceLang": "en",
   "targetLang": "fr",
   "useGoogleTranslate": true
  }
 },
 "nbformat": 4,
 "nbformat_minor": 1
}
