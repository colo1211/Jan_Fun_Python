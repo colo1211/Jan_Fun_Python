{
 "cells": [
  {
   "cell_type": "markdown",
   "metadata": {},
   "source": [
    "# 인기 검색종목 크롤링하기 "
   ]
  },
  {
   "cell_type": "code",
   "execution_count": 4,
   "metadata": {},
   "outputs": [
    {
     "name": "stdout",
     "output_type": "stream",
     "text": [
      "1 위: SK케미칼\n",
      "2 위: 삼성전자\n",
      "3 위: 씨젠\n",
      "4 위: SV인베스트먼트\n",
      "5 위: 한국파마\n",
      "6 위: 한화솔루션\n",
      "7 위: 루미마이크로\n",
      "8 위: 명문제약\n",
      "9 위: LG화학\n",
      "10 위: 셀트리온\n"
     ]
    }
   ],
   "source": [
    "import requests\n",
    "from bs4 import BeautifulSoup\n",
    "res = requests.get('https://finance.naver.com/sise/')\n",
    "soup = BeautifulSoup (res.content,'html.parser')\n",
    "data2 = soup.select('#popularItemList > li > a')\n",
    "for index,i in enumerate(data2): \n",
    "    print (index+1,'위:',i.get_text())"
   ]
  },
  {
   "cell_type": "markdown",
   "metadata": {},
   "source": [
    "# 주요 해외지수 가져오기(종목, 가치, 상승/하락)"
   ]
  },
  {
   "cell_type": "code",
   "execution_count": 6,
   "metadata": {
    "scrolled": true
   },
   "outputs": [
    {
     "name": "stdout",
     "output_type": "stream",
     "text": [
      "[<a href=\"/world/sise.nhn?symbol=DJI@DJI&amp;fdtc=0\" onclick=\"clickcr(this,'wst.dow','','',event)\">다우산업</a>]\n",
      "#\n",
      "<a href=\"/world/sise.nhn?symbol=DJI@DJI&amp;fdtc=0\" onclick=\"clickcr(this,'wst.dow','','',event)\">다우산업</a>\n",
      "[<a href=\"/world/sise.nhn?symbol=NAS@IXIC&amp;fdtc=0\" onclick=\"clickcr(this,'wst.nasdaq','','',event)\"> 나스닥</a>]\n",
      "#\n",
      "<a href=\"/world/sise.nhn?symbol=NAS@IXIC&amp;fdtc=0\" onclick=\"clickcr(this,'wst.nasdaq','','',event)\"> 나스닥</a>\n",
      "[<a href=\"/world/sise.nhn?symbol=HSI@HSCE&amp;fdtc=0\" onclick=\"clickcr(this,'wst.hsce','','',event)\"> 홍콩H</a>]\n",
      "#\n",
      "<a href=\"/world/sise.nhn?symbol=HSI@HSCE&amp;fdtc=0\" onclick=\"clickcr(this,'wst.hsce','','',event)\"> 홍콩H</a>\n",
      "[<a href=\"/world/sise.nhn?symbol=SHS@000001&amp;fdtc=0\" onclick=\"clickcr(this,'wst.shs','','',event)\"> 상해종합</a>]\n",
      "#\n",
      "<a href=\"/world/sise.nhn?symbol=SHS@000001&amp;fdtc=0\" onclick=\"clickcr(this,'wst.shs','','',event)\"> 상해종합</a>\n",
      "[<a href=\"/world/sise.nhn?symbol=NII@NI225&amp;fdtc=0\" onclick=\"clickcr(this,'wst.ni225','','',event)\"> 니케이225</a>]\n",
      "#\n",
      "<a href=\"/world/sise.nhn?symbol=NII@NI225&amp;fdtc=0\" onclick=\"clickcr(this,'wst.ni225','','',event)\"> 니케이225</a>\n"
     ]
    }
   ],
   "source": [
    "import requests\n",
    "from bs4 import BeautifulSoup\n",
    "res = requests.get('https://finance.naver.com/sise/')\n",
    "soup = BeautifulSoup (res.content,'html.parser')\n",
    "data = soup.select('ul.lst_major > li')\n",
    "for i in data: \n",
    "    print (i.select('a'))#  select는 리스트 형태로 추출한다. \n",
    "    print('#')\n",
    "    print (i.find('a')) #find는 리스트가 아닌 원소로 추출된다. "
   ]
  },
  {
   "cell_type": "code",
   "execution_count": 7,
   "metadata": {},
   "outputs": [
    {
     "name": "stdout",
     "output_type": "stream",
     "text": [
      "지수이름: 다우산업 현재지수: 28,303.46 상승/하락: 상승\n",
      "지수이름:  나스닥 현재지수: 11,364.60 상승/하락: 상승\n",
      "지수이름:  홍콩H 현재지수: 9,586.42 상승/하락: 하락\n",
      "지수이름:  상해종합 현재지수: 3,218.05 상승/하락: 하락\n",
      "지수이름:  니케이225 현재지수: 23,642.38 상승/하락: 상승\n"
     ]
    }
   ],
   "source": [
    "import requests\n",
    "from bs4 import BeautifulSoup\n",
    "res = requests.get('https://finance.naver.com/sise/')\n",
    "soup = BeautifulSoup (res.content,'html.parser')\n",
    "data1 = soup.select('ul.lst_major > li')\n",
    "for i in data1: \n",
    "    print ('지수이름:',i.find('a').get_text(),'현재지수:',i.find('span').get_text(),'상승/하락:',i.find('em').get_text())"
   ]
  },
  {
   "cell_type": "markdown",
   "metadata": {},
   "source": [
    "### 여기서는 copy element를 통해서 전체 li안에 있는 요소들을 분석 한 다음에 (메모장에서!) find를 통해서 추출하였다!"
   ]
  },
  {
   "cell_type": "code",
   "execution_count": null,
   "metadata": {},
   "outputs": [],
   "source": []
  }
 ],
 "metadata": {
  "kernelspec": {
   "display_name": "Python 3",
   "language": "python",
   "name": "python3"
  },
  "language_info": {
   "codemirror_mode": {
    "name": "ipython",
    "version": 3
   },
   "file_extension": ".py",
   "mimetype": "text/x-python",
   "name": "python",
   "nbconvert_exporter": "python",
   "pygments_lexer": "ipython3",
   "version": "3.8.3"
  }
 },
 "nbformat": 4,
 "nbformat_minor": 4
}
