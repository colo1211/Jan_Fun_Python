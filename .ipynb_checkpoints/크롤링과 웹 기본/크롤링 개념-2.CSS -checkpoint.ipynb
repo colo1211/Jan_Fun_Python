{
 "cells": [
  {
   "cell_type": "markdown",
   "metadata": {},
   "source": [
    "# CSS 는 HTML 문서를 꾸미는 언어"
   ]
  },
  {
   "cell_type": "code",
   "execution_count": 20,
   "metadata": {},
   "outputs": [
    {
     "ename": "SyntaxError",
     "evalue": "invalid syntax (<ipython-input-20-4413170d0133>, line 10)",
     "output_type": "error",
     "traceback": [
      "\u001b[1;36m  File \u001b[1;32m\"<ipython-input-20-4413170d0133>\"\u001b[1;36m, line \u001b[1;32m10\u001b[0m\n\u001b[1;33m    ----------------------------------------------\u001b[0m\n\u001b[1;37m                                                  ^\u001b[0m\n\u001b[1;31mSyntaxError\u001b[0m\u001b[1;31m:\u001b[0m invalid syntax\n"
     ]
    }
   ],
   "source": [
    "## CSS 언어 적용 \n",
    " #1. 적용할 태그에 style 속성으로 넣기\n",
    " \n",
    " \n",
    "#2. HTML 문서 <head> 안에 <style> 태그로 넣기\n",
    " \n",
    "    \n",
    "#3. HTML 문서 <head> 안에 CSS 파일로 링크하기\n",
    "\n",
    "----------------------------------------------\n",
    "# 1,2번은 HTML 파일 내에 적용한다.\n",
    "\n",
    "\n",
    "# 3번은 CSS 파일은 따로 만든다. "
   ]
  },
  {
   "cell_type": "code",
   "execution_count": 11,
   "metadata": {},
   "outputs": [
    {
     "ename": "SyntaxError",
     "evalue": "invalid syntax (<ipython-input-11-8a81db759790>, line 1)",
     "output_type": "error",
     "traceback": [
      "\u001b[1;36m  File \u001b[1;32m\"<ipython-input-11-8a81db759790>\"\u001b[1;36m, line \u001b[1;32m1\u001b[0m\n\u001b[1;33m    1. style 속성으로 태그에 넣기, 적용할 태그 안에만 넣으면 된다.\u001b[0m\n\u001b[1;37m       ^\u001b[0m\n\u001b[1;31mSyntaxError\u001b[0m\u001b[1;31m:\u001b[0m invalid syntax\n"
     ]
    }
   ],
   "source": [
    " 1. style 속성으로 태그에 넣기, 적용할 태그 안에만 넣으면 된다. \n",
    "    <td style = \"text-align:center;color:blue\"> -> 가운데 정렬, 파란색\n",
    "    #text-align, color = 프로퍼티, center, blue=  값"
   ]
  },
  {
   "cell_type": "code",
   "execution_count": 17,
   "metadata": {},
   "outputs": [
    {
     "ename": "IndentationError",
     "evalue": "unindent does not match any outer indentation level (<tokenize>, line 9)",
     "output_type": "error",
     "traceback": [
      "\u001b[1;36m  File \u001b[1;32m\"<tokenize>\"\u001b[1;36m, line \u001b[1;32m9\u001b[0m\n\u001b[1;33m    </style>\u001b[0m\n\u001b[1;37m    ^\u001b[0m\n\u001b[1;31mIndentationError\u001b[0m\u001b[1;31m:\u001b[0m unindent does not match any outer indentation level\n"
     ]
    }
   ],
   "source": [
    " 2. HTML 문서 <head>안에 <style> 태그로 넣기, 하나하나 적용하기 귀찮고 head에 전체적으로 적용\n",
    "    Head 안에 아무곳이나 넣으면 된다!(위치 상관 없음)\n",
    " <style type = \"text/css\">\n",
    "     td={\n",
    "             font-size :2em; # 글자 크기 ex) 2em, 16px\n",
    "             font-family :Gulim; #글자 폰트 \n",
    "             text-align: center; #텍스트 정렬 \n",
    "     }\n",
    "    </style>"
   ]
  },
  {
   "cell_type": "code",
   "execution_count": 21,
   "metadata": {},
   "outputs": [
    {
     "ename": "SyntaxError",
     "evalue": "invalid syntax (<ipython-input-21-a6678cd905ef>, line 1)",
     "output_type": "error",
     "traceback": [
      "\u001b[1;36m  File \u001b[1;32m\"<ipython-input-21-a6678cd905ef>\"\u001b[1;36m, line \u001b[1;32m1\u001b[0m\n\u001b[1;33m    3. HTML 문서 <head> 안에 CSS 파일로 링크하기\u001b[0m\n\u001b[1;37m       ^\u001b[0m\n\u001b[1;31mSyntaxError\u001b[0m\u001b[1;31m:\u001b[0m invalid syntax\n"
     ]
    }
   ],
   "source": [
    "3. HTML 문서 <head> 안에 CSS 파일로 링크하기\n",
    "<head>\n",
    "    <meta charset=\"UTF-8\">\n",
    "    <title> Dave Lee Blog </title>\n",
    "    <link rel=\"stylesheet\", type=\"text/css\" href=\"css/style.css\"> : 이 부분이 css 파일을 끌어오는 부분\n",
    "</head>"
   ]
  },
  {
   "cell_type": "code",
   "execution_count": null,
   "metadata": {},
   "outputs": [],
   "source": [
    "# css 파일 내\n",
    ".highlight{\n",
    "\tfont-size:10em;\n",
    "\ttext-align: center;\n",
    "\tcolor : blue;\n",
    "}\n",
    "# css 파일에서 본인만의 클래스를 설정할때 변수명 앞에 .을 붙이면 된다. \n",
    "# Html 파일 내 태그 내에 속성으로 끌어 온다. \n",
    "<td class='highlight'> 안녕 </td>"
   ]
  }
 ],
 "metadata": {
  "kernelspec": {
   "display_name": "Python 3",
   "language": "python",
   "name": "python3"
  },
  "language_info": {
   "codemirror_mode": {
    "name": "ipython",
    "version": 3
   },
   "file_extension": ".py",
   "mimetype": "text/x-python",
   "name": "python",
   "nbconvert_exporter": "python",
   "pygments_lexer": "ipython3",
   "version": "3.8.3"
  }
 },
 "nbformat": 4,
 "nbformat_minor": 4
}
