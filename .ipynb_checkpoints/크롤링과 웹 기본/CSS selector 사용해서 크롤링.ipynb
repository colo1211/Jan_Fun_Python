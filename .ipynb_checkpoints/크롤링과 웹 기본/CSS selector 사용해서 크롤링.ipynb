{
 "cells": [
  {
   "cell_type": "markdown",
   "metadata": {},
   "source": [
    "### CSS selector를 활용하여 크롤링 하는 경우가 꽤 있다!\n",
    "### -> 직관적이지 않다. "
   ]
  },
  {
   "cell_type": "markdown",
   "metadata": {},
   "source": [
    "# CSS Selector 사용법\n",
    "```\n",
    "* select() 안에 태그 또는 CSS class 이름등을 넣어주면 됨\n",
    "* '결과값은 리스트 형태'로 반환됨\n",
    "    매칭되는 첫번째 데이터만 얻고자 할 때는 select_one(), 이 때는 해당 아이템 객체가 리턴\n",
    "```"
   ]
  },
  {
   "cell_type": "markdown",
   "metadata": {},
   "source": [
    "## select('li')를 입력했을때, li태그가 있는 부분을 모두 가져와서 리스트로 assign 된다\n",
    "\n",
    "## 만약, 첫번째 데이터만 얻고 싶다면 select_one()만 하면 된다. "
   ]
  },
  {
   "cell_type": "code",
   "execution_count": 13,
   "metadata": {},
   "outputs": [
    {
     "name": "stdout",
     "output_type": "stream",
     "text": [
      "(왕초보) - 클래스 소개\n",
      "(왕초보) - 블로그 개발 필요한 준비물 준비하기\n",
      "(왕초보) - Github pages 설정해서 블로그 첫 페이지 만들어보기\n",
      "(왕초보) - 초간단 페이지 만들어보기\n",
      "(왕초보) - 이쁘게 테마 적용해보기\n",
      "(왕초보) - 마크다운 기초 이해하고, 실제 나만의 블로그 페이지 만들기\n",
      "(왕초보) - 다양한 마크다운 기법 익혀보며, 나만의 블로그 페이지 꾸며보기\n",
      "(초급) - 강사가 실제 사용하는 자동 프로그램 소개 [2]\n",
      "(초급) - 필요한 프로그램 설치 시연 [5]\n",
      "(초급) - 데이터를 엑셀 파일로 만들기 [9]\n",
      "(초급) -     엑셀 파일 이쁘게! 이쁘게! [8]\n",
      "(초급) -     나대신 주기적으로 파이썬 프로그램 실행하기 [7]\n",
      "(초급) - 파이썬으로 슬랙(slack) 메신저에 글쓰기 [40]\n",
      "(초급) - 웹사이트 변경사항 주기적으로 체크해서, 메신저로 알람주기 [12]\n",
      "(초급) - 네이버 API 사용해서, 블로그에 글쓰기 [42]\n",
      "(중급) - 자동으로 쿠팡파트너스 API 로 가져온 상품 정보, 네이버 블로그/트위터에 홍보하기 [412]\n",
      "\n",
      "\n",
      "select_one()을 사용: (왕초보) - 클래스 소개\n"
     ]
    }
   ],
   "source": [
    "import requests\n",
    "from bs4 import BeautifulSoup\n",
    "\n",
    "res = requests.get('https://davelee-fun.github.io/blog/crawl_test_css.html')\n",
    "soup = BeautifulSoup(res.content,'html.parser')\n",
    "data = soup.select('li') #find 대신에 select를 사용해서 리스트타입으로 데이터가 들어온다. \n",
    "for i in data:\n",
    "    print (i.get_text())\n",
    "print('\\n')\n",
    "data_1 =soup.select_one('li')\n",
    "print(\"select_one()을 사용:\",data_1.get_text())"
   ]
  },
  {
   "cell_type": "markdown",
   "metadata": {},
   "source": [
    "-----------------------------------------------------------------------------------"
   ]
  },
  {
   "cell_type": "markdown",
   "metadata": {},
   "source": [
    "## 하위 태그 선택 "
   ]
  },
  {
   "cell_type": "markdown",
   "metadata": {},
   "source": [
    "## 1. items = soup.select('html body h1') \n",
    "### space bar로 구분해주면 바로 아래 태그가 아니더라도 인식한다.\n",
    "### 아래에 어디든 있어도 된다. "
   ]
  },
  {
   "cell_type": "markdown",
   "metadata": {},
   "source": [
    "## 2. items = soup.select('ul > li')\n",
    "### ul태그 바로 아래에 있는 li태그만 가져 오겠다. \n",
    "### 실제로 바로 아래에 있는 태그가 아니면 인식하지 못한다. "
   ]
  },
  {
   "cell_type": "code",
   "execution_count": 8,
   "metadata": {},
   "outputs": [],
   "source": [
    "import requests\n",
    "from bs4 import BeautifulSoup\n",
    "\n",
    "res = requests.get('https://davelee-fun.github.io/blog/crawl_test_css.html')\n",
    "soup = BeautifulSoup(res.content,'html.parser')\n",
    "data = soup.select('ul> a') #find 대신에 select를 사용해서 리스트타입으로 데이터가 들어온다. \n",
    "for i in data:\n",
    "    print (i.get_text())"
   ]
  },
  {
   "cell_type": "markdown",
   "metadata": {},
   "source": [
    "#### ul 밑에 a가 존재하지 않아서 인식이 불가능하다!"
   ]
  },
  {
   "cell_type": "markdown",
   "metadata": {},
   "source": [
    "-----------------------------------------------------------------------------------"
   ]
  },
  {
   "cell_type": "markdown",
   "metadata": {},
   "source": [
    "# Class 이름으로 select\n",
    "## select('.class 명') "
   ]
  },
  {
   "cell_type": "code",
   "execution_count": 14,
   "metadata": {},
   "outputs": [],
   "source": [
    "import requests \n",
    "from bs4 import BeautifulSoup "
   ]
  },
  {
   "cell_type": "code",
   "execution_count": 19,
   "metadata": {},
   "outputs": [
    {
     "name": "stdout",
     "output_type": "stream",
     "text": [
      "(왕초보) - 클래스 소개\n",
      "(왕초보) - 블로그 개발 필요한 준비물 준비하기\n",
      "(왕초보) - Github pages 설정해서 블로그 첫 페이지 만들어보기\n",
      "(왕초보) - 초간단 페이지 만들어보기\n",
      "(왕초보) - 이쁘게 테마 적용해보기\n",
      "(왕초보) - 마크다운 기초 이해하고, 실제 나만의 블로그 페이지 만들기\n",
      "(왕초보) - 다양한 마크다운 기법 익혀보며, 나만의 블로그 페이지 꾸며보기\n",
      "(초급) - 강사가 실제 사용하는 자동 프로그램 소개 [2]\n",
      "(초급) - 필요한 프로그램 설치 시연 [5]\n",
      "(초급) - 데이터를 엑셀 파일로 만들기 [9]\n",
      "(초급) -     엑셀 파일 이쁘게! 이쁘게! [8]\n",
      "(초급) -     나대신 주기적으로 파이썬 프로그램 실행하기 [7]\n",
      "(초급) - 파이썬으로 슬랙(slack) 메신저에 글쓰기 [40]\n",
      "(초급) - 웹사이트 변경사항 주기적으로 체크해서, 메신저로 알람주기 [12]\n",
      "(초급) - 네이버 API 사용해서, 블로그에 글쓰기 [42]\n",
      "(중급) - 자동으로 쿠팡파트너스 API 로 가져온 상품 정보, 네이버 블로그/트위터에 홍보하기 [412]\n"
     ]
    }
   ],
   "source": [
    "res=requests.get('https://davelee-fun.github.io/blog/crawl_test_css.html')\n",
    "soup=BeautifulSoup(res.content,'html.parser')\n",
    "data = soup.select('.course') #class는 class명 앞에 .을 붙인다. \n",
    "for i in data:\n",
    "    print (i.get_text())"
   ]
  },
  {
   "cell_type": "markdown",
   "metadata": {},
   "source": [
    "###### 위와 같이 class 명은 select(.class명)으로 찾는다. "
   ]
  },
  {
   "cell_type": "markdown",
   "metadata": {},
   "source": [
    "# id 이름으로 select\n",
    "## '#id이름'으로 검색이 가능하다. "
   ]
  },
  {
   "cell_type": "code",
   "execution_count": 20,
   "metadata": {},
   "outputs": [
    {
     "name": "stdout",
     "output_type": "stream",
     "text": [
      "\n",
      "(왕초보) - 클래스 소개\n",
      "(왕초보) - 블로그 개발 필요한 준비물 준비하기\n",
      "(왕초보) - Github pages 설정해서 블로그 첫 페이지 만들어보기\n",
      "(왕초보) - 초간단 페이지 만들어보기\n",
      "(왕초보) - 이쁘게 테마 적용해보기\n",
      "(왕초보) - 마크다운 기초 이해하고, 실제 나만의 블로그 페이지 만들기\n",
      "(왕초보) - 다양한 마크다운 기법 익혀보며, 나만의 블로그 페이지 꾸며보기\n",
      "\n"
     ]
    }
   ],
   "source": [
    "res=requests.get('https://davelee-fun.github.io/blog/crawl_test_css.html')\n",
    "soup=BeautifulSoup(res.content,'html.parser')\n",
    "data = soup.select('#hobby_course_list') # id는 id명 앞에 #을 붙인다.\n",
    "for i in data:\n",
    "    print (i.get_text())"
   ]
  },
  {
   "cell_type": "markdown",
   "metadata": {},
   "source": [
    "#### 위와 같이 class 명은 select(#id명)으로 찾는다."
   ]
  },
  {
   "cell_type": "markdown",
   "metadata": {},
   "source": [
    "## 혼합해서 사용해보자! "
   ]
  },
  {
   "cell_type": "code",
   "execution_count": 25,
   "metadata": {
    "scrolled": true
   },
   "outputs": [
    {
     "name": "stdout",
     "output_type": "stream",
     "text": [
      "(왕초보) - 클래스 소개\n",
      "(왕초보) - 블로그 개발 필요한 준비물 준비하기\n",
      "(왕초보) - Github pages 설정해서 블로그 첫 페이지 만들어보기\n",
      "(왕초보) - 초간단 페이지 만들어보기\n",
      "(왕초보) - 이쁘게 테마 적용해보기\n",
      "(왕초보) - 마크다운 기초 이해하고, 실제 나만의 블로그 페이지 만들기\n",
      "(왕초보) - 다양한 마크다운 기법 익혀보며, 나만의 블로그 페이지 꾸며보기\n"
     ]
    }
   ],
   "source": [
    "res=requests.get('https://davelee-fun.github.io/blog/crawl_test_css.html')\n",
    "soup=BeautifulSoup(res.content,'html.parser')\n",
    "data = soup.select('li.course#start') # id는 id명 앞에 #을 붙인다.\n",
    "for i in data:\n",
    "    print (i.get_text())"
   ]
  },
  {
   "cell_type": "code",
   "execution_count": 33,
   "metadata": {},
   "outputs": [
    {
     "name": "stdout",
     "output_type": "stream",
     "text": [
      "(왕초보) - 클래스 소개\n",
      "(왕초보) - 블로그 개발 필요한 준비물 준비하기\n",
      "(왕초보) - Github pages 설정해서 블로그 첫 페이지 만들어보기\n",
      "(왕초보) - 초간단 페이지 만들어보기\n",
      "(왕초보) - 이쁘게 테마 적용해보기\n",
      "(왕초보) - 마크다운 기초 이해하고, 실제 나만의 블로그 페이지 만들기\n",
      "(왕초보) - 다양한 마크다운 기법 익혀보며, 나만의 블로그 페이지 꾸며보기\n"
     ]
    }
   ],
   "source": [
    "res=requests.get('https://davelee-fun.github.io/blog/crawl_test_css.html')\n",
    "soup=BeautifulSoup(res.content,'html.parser')\n",
    "data = soup.select('ul#hobby_course_list li.course#start') # id는 id명 앞에 #을 붙인다.\n",
    "for i in data:\n",
    "    print (i.get_text())"
   ]
  },
  {
   "cell_type": "markdown",
   "metadata": {},
   "source": [
    "```\n",
    "정리하자면, select()를 사용하여 데이터를 추출 할때는 \n",
    "class에는 앞에 .을 붙이고 id명 앞에는 #을 붙인다. \n",
    "또한 하위 태그를 사용하려면 한칸 뛰고 계속 적으면 된다.\n",
    "```"
   ]
  },
  {
   "cell_type": "markdown",
   "metadata": {},
   "source": [
    "#### select()는 리스트로 받는데 나는 데이터 하나만 가져오고 싶을 때는 select_one() (리스트로 받아오지 않는다. 하나의 객체로 받아온다.)"
   ]
  },
  {
   "cell_type": "code",
   "execution_count": 46,
   "metadata": {},
   "outputs": [
    {
     "name": "stdout",
     "output_type": "stream",
     "text": [
      "(중급) - 자동으로 쿠팡파트너스 API 로 가져온 상품 정보, 네이버 블로그/트위터에 홍보하기 [412]\n"
     ]
    }
   ],
   "source": [
    "res=requests.get('https://davelee-fun.github.io/blog/crawl_test_css.html')\n",
    "soup=BeautifulSoup(res.content,'html.parser')\n",
    "data = soup.select_one('ul#dev_course_list > li.course.paid#advance') \n",
    "print(data.get_text())"
   ]
  },
  {
   "cell_type": "markdown",
   "metadata": {},
   "source": [
    "```\n",
    "<li class=\"course paid\" id=\"advance\"><a href=\"https://www.fun-coding.org\">(중급) - 자동으로 쿠팡파트너스 API 로 가져온 상품 정보, 네이버 블로그/트위터에 홍보하기 [412]</a></li>\n",
    "```"
   ]
  },
  {
   "cell_type": "markdown",
   "metadata": {},
   "source": [
    "## 위의 태그를 가져오려 했으나, class에 course paid가 띄어져있어서 실수했었다. 이럴때는 .course.paid를 입력해준다."
   ]
  },
  {
   "cell_type": "markdown",
   "metadata": {},
   "source": [
    "#### 추출한 것에서 추출하기 (find()와 select() 비교)\n",
    "##### find()/select() 로 가져온 객체에는 find()/select() 함수를 사용 가능\n",
    "* 둘다 서로 호환이 가능하다."
   ]
  },
  {
   "cell_type": "markdown",
   "metadata": {},
   "source": [
    "# (중요!) 표에 있는 데이터를 가져오고 싶을때! \n",
    " ``` \n",
    " 각각의 행은 <tr> (table row)태그로 구분되어 있고 데이터 하나하나는 <td> (table data)로 구분 되어 있었다! \n",
    " ex) <tr> 여기가 첫번째 가로줄 \n",
    "         <td>\n",
    "         <td>\n",
    "         <td>\n",
    "     </tr> \n",
    "     <tr> 여기가 두번째 가로줄 \n",
    "         <td>\n",
    "         <td>\n",
    "         <td>\n",
    "     </tr> \n",
    "     \n",
    "     \n",
    "     근데 나는 \n",
    "     <td> <td> <td>\n",
    "     <td> <td> <td> \n",
    "     이렇게 실제 표처럼 행과 열을 맞춰서 출력하고 싶다!\n",
    "     -> 2중 for 문 을 사용한다. \n",
    "``` \n",
    " #### td 태그로 가져와도 괜찮지만 어디서부터 어디까지가 행인지 구분이 불가능 또, 데이터중에 하나라도 td태그가 빠지게 되면 데이터가 누락된다. 따라서 tr태그로 행처럼 가져온다."
   ]
  },
  {
   "cell_type": "code",
   "execution_count": 1,
   "metadata": {},
   "outputs": [],
   "source": [
    "import requests \n",
    "from bs4 import BeautifulSoup "
   ]
  },
  {
   "cell_type": "code",
   "execution_count": 40,
   "metadata": {},
   "outputs": [
    {
     "name": "stdout",
     "output_type": "stream",
     "text": [
      "---------------------------------------------------\n",
      "일정|커리큘럼 타이틀|난이도\n",
      "---------------------------------------------------\n",
      "5.1 ~ 6.15|나만의 엣지있는 블로그 사이트 만들기 (취미로 익히는 IT)|초급\n",
      "---------------------------------------------------\n",
      "6.16 ~ 7.31|파이썬과 데이터과학 첫걸음 (IT 기본기 익히기)|중급\n",
      "---------------------------------------------\n"
     ]
    }
   ],
   "source": [
    "res = requests.get('https://davelee-fun.github.io/blog/crawl_html_css.html')\n",
    "soup = BeautifulSoup(res.content,'html.parser')\n",
    "datas = soup.select('tr') #전체 데이터들을 끌어온다. \n",
    "for data in datas: #표에 있는 전체 데이터들 중에 한 줄씩 끌어온다. \n",
    "    print ('---------------------------------------------------')\n",
    "    columns = data.select('td') # 한 줄씩 끌어오는 데이터들을 td 태그로 구분한다. column으로!\n",
    "    row_data = ' ' #초기화를 통해 아래 반복문을 반복할때마다 새로운 데이터를 받을 준비 \n",
    "    for column in columns:\n",
    "        row_data += '|'+ column.get_text()\n",
    "    print(row_data[2:])\n",
    "print ('---------------------------------------------')"
   ]
  }
 ],
 "metadata": {
  "kernelspec": {
   "display_name": "Python 3",
   "language": "python",
   "name": "python3"
  },
  "language_info": {
   "codemirror_mode": {
    "name": "ipython",
    "version": 3
   },
   "file_extension": ".py",
   "mimetype": "text/x-python",
   "name": "python",
   "nbconvert_exporter": "python",
   "pygments_lexer": "ipython3",
   "version": "3.8.3"
  }
 },
 "nbformat": 4,
 "nbformat_minor": 4
}
