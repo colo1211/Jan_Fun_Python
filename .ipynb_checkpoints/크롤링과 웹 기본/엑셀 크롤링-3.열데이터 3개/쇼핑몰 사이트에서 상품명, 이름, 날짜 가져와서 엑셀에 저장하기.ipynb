{
 "cells": [
  {
   "cell_type": "code",
   "execution_count": 17,
   "metadata": {},
   "outputs": [],
   "source": [
    "import openpyxl \n",
    "\n",
    "def make_excel(filename, sheetname, datalist):\n",
    "    excel_file = openpyxl.Workbook()\n",
    "    excel_sheet= excel_file.active\n",
    "    \n",
    "    if sheetname == '':\n",
    "        excel_sheet.title=sheetname\n",
    "    \n",
    "    for i in datalist:\n",
    "        excel_sheet.append(i)\n",
    "    excel_file.save(filename)\n",
    "    excel_file.close()"
   ]
  },
  {
   "cell_type": "code",
   "execution_count": 28,
   "metadata": {},
   "outputs": [],
   "source": [
    "import requests\n",
    "from bs4 import BeautifulSoup \n",
    "\n",
    "product_list=list()\n",
    "for page_num in range(10):\n",
    "    if page_num == 0:\n",
    "        res = requests.get('https://davelee-fun.github.io/')\n",
    "    else : \n",
    "        res = requests.get('https://davelee-fun.github.io/page'+str(page_num+1))\n",
    "    soup = BeautifulSoup(res.content,'html.parser')\n",
    "    data= soup.select('div.card')\n",
    "    \n",
    "    for i in data:\n",
    "        product_name = i.select_one('div.card-body h4.card-text')\n",
    "        product_maker= i.select_one(' div.wrapfooter span.author-meta span.post-name a')\n",
    "        product_date = i.select_one ('div.wrapfooter span.post-date')\n",
    "        product_all = [product_name.get_text().strip(),product_maker.get_text().strip(),product_date.get_text()]\n",
    "        product_list.append(product_all)\n",
    "make_excel('practice3.xls','제품정보',product_list)"
   ]
  },
  {
   "cell_type": "code",
   "execution_count": null,
   "metadata": {},
   "outputs": [],
   "source": []
  }
 ],
 "metadata": {
  "kernelspec": {
   "display_name": "Python 3",
   "language": "python",
   "name": "python3"
  },
  "language_info": {
   "codemirror_mode": {
    "name": "ipython",
    "version": 3
   },
   "file_extension": ".py",
   "mimetype": "text/x-python",
   "name": "python",
   "nbconvert_exporter": "python",
   "pygments_lexer": "ipython3",
   "version": "3.8.3"
  }
 },
 "nbformat": 4,
 "nbformat_minor": 4
}
