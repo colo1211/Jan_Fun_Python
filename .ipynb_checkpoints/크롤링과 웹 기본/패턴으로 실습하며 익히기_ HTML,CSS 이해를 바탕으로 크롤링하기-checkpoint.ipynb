{
 "cells": [
  {
   "cell_type": "code",
   "execution_count": 2,
   "metadata": {},
   "outputs": [],
   "source": [
    "import requests\n",
    "from bs4 import BeautifulSoup"
   ]
  },
  {
   "cell_type": "code",
   "execution_count": 7,
   "metadata": {
    "scrolled": true
   },
   "outputs": [
    {
     "name": "stdout",
     "output_type": "stream",
     "text": [
      "잔금대출에도 DTI 규제 적용 검토\n"
     ]
    }
   ],
   "source": [
    "res = requests.get(\"http://v.media.daum.net/v/20170615203441266\")\n",
    "get = BeautifulSoup(res.content,'html.parser')\n",
    "title = get.find ('h3', class_='tit_view') # 명확하게 내가 쓰고 싶은 문장을 끌어오려면 css에 class를 활용하면 된다. \n",
    "print (title.get_text())"
   ]
  },
  {
   "cell_type": "markdown",
   "metadata": {},
   "source": [
    "## 원하는 문장을 끌어올때는 해당하는 css내의 class를 확인 한 후에 \n",
    "* class_= '사용자 지정 클래스'\n",
    "* '사용자 지정 클래스명' \n",
    "* ex) title = get.find_all ('span', class_='txt_info')\n",
    "* ex) title = get.find_all ('span', 'txt_info') \n",
    "* 만약 클래스가 두개 존재한다면, title = get.find ('div', 'layer_util layer_summary') layer_until layer_summary를 띄어서 쓰면 끝난다!!"
   ]
  },
  {
   "cell_type": "code",
   "execution_count": 17,
   "metadata": {},
   "outputs": [
    {
     "name": "stdout",
     "output_type": "stream",
     "text": [
      "김동욱\n",
      "입력 2017.06.15. 20:34\n",
      "수정 2017.06.15. 21:31\n",
      "\n",
      "\n",
      "입력 2017.06.15. 20:34\n"
     ]
    }
   ],
   "source": [
    "res = requests.get(\"http://v.media.daum.net/v/20170615203441266\")\n",
    "get = BeautifulSoup(res.content,'html.parser')\n",
    "title = get.find_all ('span', class_='txt_info') # 명확하게 내가 쓰고 싶은 문장을 끌어오려면 css에 class를 활용하면 된다.\n",
    "# class_ = 가 아니라 그냥 클래스 명만 써도 된다. \n",
    "for i in title:\n",
    "    print (i.get_text())\n",
    "print('\\n')\n",
    "print(title[1].get_text())"
   ]
  },
  {
   "cell_type": "markdown",
   "metadata": {},
   "source": [
    "## find_all()을 하면 list형태로 자료가 담기게 된다. \n",
    "## 따라서, 자료를 출력하려면 반복문을 통해서 출력"
   ]
  },
  {
   "cell_type": "markdown",
   "metadata": {},
   "source": [
    "# 기사 내에서 본문에 있는 첫 문장을 출력"
   ]
  },
  {
   "cell_type": "code",
   "execution_count": 34,
   "metadata": {},
   "outputs": [
    {
     "name": "stdout",
     "output_type": "stream",
     "text": [
      "<div class=\"layer_util layer_summary\">\n",
      "<p>금융당국이 급증하는 가계부채 증가세를 막기 위해 아파트 잔금대출에도 소득을 따져 대출한도를 정하는 총부채상환비율(DTI)을 적용하는 방안을 유력하게 검토하고 있다.</p>\n",
      "<p>지금은 집값을 기준으로 대출한도를 매기는 주택담보인정비율(LTV) 규제만 적용돼 소득이 없어도 집값의 70%를 빌려 잔금을 치르는 게 가능하다.</p>\n",
      "<p>앞으로 잔금대출에 DTI가 적용되면 소득이 없는 사람은 집값의 70% 대출 받는 게 어려워진다.</p> <span class=\"info_summary\"><span class=\"ico_newsview\"></span>기사 제목과 주요 문장을 기반으로 자동요약한 결과입니다. 전체 맥락을 이해하기 위해서는 본문 보기를 권장합니다.</span>\n",
      "</div>\n"
     ]
    }
   ],
   "source": [
    "res = requests.get(\"http://v.media.daum.net/v/20170615203441266\")\n",
    "get = BeautifulSoup(res.content,'html.parser')\n",
    "title = get.find ('div', 'layer_util layer_summary') #<div class=\"layer_util layer_summary\">를 끌어온다. 클래스 이중 사용은 콤마(,)없이 띄어쓰기\n",
    "print (title)"
   ]
  },
  {
   "cell_type": "code",
   "execution_count": 22,
   "metadata": {
    "scrolled": true
   },
   "outputs": [
    {
     "name": "stdout",
     "output_type": "stream",
     "text": [
      "\n",
      "금융당국이 급증하는 가계부채 증가세를 막기 위해 아파트 잔금대출에도 소득을 따져 대출한도를 정하는 총부채상환비율(DTI)을 적용하는 방안을 유력하게 검토하고 있다.\n",
      "지금은 집값을 기준으로 대출한도를 매기는 주택담보인정비율(LTV) 규제만 적용돼 소득이 없어도 집값의 70%를 빌려 잔금을 치르는 게 가능하다.\n",
      "앞으로 잔금대출에 DTI가 적용되면 소득이 없는 사람은 집값의 70% 대출 받는 게 어려워진다. 기사 제목과 주요 문장을 기반으로 자동요약한 결과입니다. 전체 맥락을 이해하기 위해서는 본문 보기를 권장합니다.\n",
      "\n"
     ]
    }
   ],
   "source": [
    "res = requests.get(\"http://v.media.daum.net/v/20170615203441266\")\n",
    "get = BeautifulSoup(res.content,'html.parser')\n",
    "title = get.find ('div', 'layer_util layer_summary') #<div class=\"layer_util layer_summary\">를 끌어온다. 클래스 이중 사용은 콤마(,)없이 띄어쓰기\n",
    "print (title.get_text())"
   ]
  },
  {
   "cell_type": "markdown",
   "metadata": {},
   "source": [
    "### print (title.string) vs print(title.get_text())\n",
    "#### get_text()가 먹히는 경우가 많으며, string 은 오류인 경우가 있다. 두가지를 혼용하며 잘 사용할 것!"
   ]
  },
  {
   "cell_type": "markdown",
   "metadata": {},
   "source": [
    "# 크롤링 후처리\n",
    " * \\n, 불필요한 데이터 삭제, 깔끔하게 문자열 정리 "
   ]
  },
  {
   "cell_type": "code",
   "execution_count": null,
   "metadata": {},
   "outputs": [],
   "source": []
  }
 ],
 "metadata": {
  "kernelspec": {
   "display_name": "Python 3",
   "language": "python",
   "name": "python3"
  },
  "language_info": {
   "codemirror_mode": {
    "name": "ipython",
    "version": 3
   },
   "file_extension": ".py",
   "mimetype": "text/x-python",
   "name": "python",
   "nbconvert_exporter": "python",
   "pygments_lexer": "ipython3",
   "version": "3.8.3"
  }
 },
 "nbformat": 4,
 "nbformat_minor": 4
}
