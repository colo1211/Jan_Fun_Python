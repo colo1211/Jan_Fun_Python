{
 "cells": [
  {
   "cell_type": "markdown",
   "metadata": {},
   "source": [
    "# 파이썬 기본\n",
    "1. 데이터 타입과 변수, 그리고 출력\n",
    "2. 문자열 다루기 기본과 리스트 데이터 구조\n",
    "3. 조건문\n",
    "4. 반복문\n",
    "5. 함수\n",
    "6. 다양한 데이터 구조: 튜플, 딕셔너리, 집합\n",
    "이외에 필요한 부분은 실제 프로그래밍을 하며 필요할 때 익힙니다.!\n",
    "객체와 클래스, 라이브러리, 문자열등"
   ]
  },
  {
   "cell_type": "markdown",
   "metadata": {},
   "source": [
    "# 문자열 (string)\n",
    "some_string = \"python\"\n",
    "len(some_string)"
   ]
  },
  {
   "cell_type": "code",
   "execution_count": 36,
   "metadata": {},
   "outputs": [],
   "source": [
    "article = \"\"\"The London Korean Film Festivalis going partially digital for the first time as the U.K. continues to grapple with the ongoing novel coronavirus pandemic.\n",
    "\n",
    "The 15th edition of the event will have physical screenings but also elements that will be purely online. The festival is looking to build on the unprecedented global interest in Korean cinema, buoyed by Parasite's stunning success at Cannes and also the Academy Awards earlier this year. In a nod to Parasite director Bong Joon Ho, LKFF will screen two of the filmmaker's early shorts, the mockumentary Influenza (2004) and breakout early work Incoherence (1994) as well as his rare on-screen acting performance in Kang Dae-hee’s Some Light? (2009).\n",
    "\n",
    "LKFF will open Oct. 29 with the European premiere of Kang Dae-gyu's dramedy Pawn starring Sung Dong-il and Kim Hee-won which was edited by Yang Jin-mo who received an Academy Award nomination for his work on Parasite. The festival will close Nov. 12 with the U.K. premiere of Kim Jinyu’s family drama Bori. \n",
    "\n",
    "Other highlights include the European premieres of Jung Jinyoung’s genre-bending mystery Me & Me (2020), which garnered special jury mentions at the Fantasia Festival, and Hong Sangsoo's The Woman Who Ran which won the Silver Bear at the Berlin Film Festival this year. There are also U.K. premieres for Yoon Dan-bi's coming-of-age drama Moving On and Lee Jae-kyoo's Intimate Strangers.\n",
    "\n",
    "The full program for the festival will be announced soon, including screenings, introductions and Q&As.\n",
    "\n",
    "LKFF runs from Oct. 29 through to Nov. 12 with cinema screenings in London and online screenings available to audiences across the U.K.\"\"\""
   ]
  },
  {
   "cell_type": "markdown",
   "metadata": {},
   "source": [
    "\"를 3번 써주면 문자열로 변수를 저장해 준다. "
   ]
  },
  {
   "cell_type": "code",
   "execution_count": 6,
   "metadata": {},
   "outputs": [
    {
     "data": {
      "text/plain": [
       "3"
      ]
     },
     "execution_count": 6,
     "metadata": {},
     "output_type": "execute_result"
    }
   ],
   "source": [
    "article.count(\"LKFF\")"
   ]
  },
  {
   "cell_type": "code",
   "execution_count": 7,
   "metadata": {},
   "outputs": [
    {
     "data": {
      "text/plain": [
       "1"
      ]
     },
     "execution_count": 7,
     "metadata": {},
     "output_type": "execute_result"
    }
   ],
   "source": [
    "article.count(\"open\")"
   ]
  },
  {
   "cell_type": "code",
   "execution_count": 8,
   "metadata": {},
   "outputs": [
    {
     "name": "stdout",
     "output_type": "stream",
     "text": [
      "1646\n"
     ]
    }
   ],
   "source": [
    "print(len(article))"
   ]
  },
  {
   "cell_type": "code",
   "execution_count": 9,
   "metadata": {},
   "outputs": [],
   "source": [
    "# len함수는 변수의 길이를 나타내 준다. 띄어쓰기, 줄바꿈\\n 등을 모두 카운트"
   ]
  },
  {
   "cell_type": "code",
   "execution_count": 10,
   "metadata": {},
   "outputs": [
    {
     "data": {
      "text/plain": [
       "1521"
      ]
     },
     "execution_count": 10,
     "metadata": {},
     "output_type": "execute_result"
    }
   ],
   "source": [
    "article.find(\"from\")"
   ]
  },
  {
   "cell_type": "markdown",
   "metadata": {},
   "source": [
    "# article.replace (\"기존 이름\", \"바꿀 이름\") "
   ]
  },
  {
   "cell_type": "code",
   "execution_count": 11,
   "metadata": {},
   "outputs": [
    {
     "data": {
      "text/plain": [
       "'\"The London Korean Film Festivalis going partially digital for the first time as the U.K. continues to grapple with the ongoing novel coronavirus pandemic.\\n\\nThe 15th edition of the event will have physical screenings but also elements that will be purely online. The festival is looking to build on the unprecedented global interest in Korean cinema, buoyed by Parasite\\'s stunning success at Cannes and also the Academy Awards earlier this year. In a nod to Parasite director Bong Joon Ho, LKFF will screen two of the filmmaker\\'s early shorts, the mockumentary Influenza (2004) and breakout early work Incoherence (1994) as well as his rare on-screen acting performance in Kang Dae-hee’s Some Light? (2009).\\n\\nLKFF will open Oct. 29 with the European premiere of Kang Dae-gyu\\'s dramedy Pawn starring kim kyung won and Kim Hee-won which was edited by Yang Jin-mo who received an Academy Award nomination for his work on Parasite. The festival will close Nov. 12 with the U.K. premiere of Kim Jinyu’s family drama Bori. \\n\\nOther highlights include the European premieres of Jung Jinyoung’s genre-bending mystery Me & Me (2020), which garnered special jury mentions at the Fantasia Festival, and Hong Sangsoo\\'s The Woman Who Ran which won the Silver Bear at the Berlin Film Festival this year. There are also U.K. premieres for Yoon Dan-bi\\'s coming-of-age drama Moving On and Lee Jae-kyoo\\'s Intimate Strangers.\\n\\nThe full program for the festival will be announced soon, including screenings, introductions and Q&As.\\n\\nLKFF runs from Oct. 29 through to Nov. 12 with cinema screenings in London and online screenings available to audiences across the U.K.'"
      ]
     },
     "execution_count": 11,
     "metadata": {},
     "output_type": "execute_result"
    }
   ],
   "source": [
    "article.replace(\"Sung Dong-il\",\"kim kyung won\")"
   ]
  },
  {
   "cell_type": "markdown",
   "metadata": {},
   "source": [
    "# 문자열 특수 기능\n",
    "## 인덱스 (index)\n",
    "인덱스는 특정 데이터를 가리키는 번호를 나타냄\n",
    "p y t h o n\n",
    "0 1 2 3 4 5\n",
    "‑6 ‑5 ‑4 ‑3 ‑2 ‑1\n"
   ]
  },
  {
   "cell_type": "code",
   "execution_count": 13,
   "metadata": {},
   "outputs": [
    {
     "name": "stdout",
     "output_type": "stream",
     "text": [
      "\"\n"
     ]
    }
   ],
   "source": [
    "print(article[0])"
   ]
  },
  {
   "cell_type": "code",
   "execution_count": 17,
   "metadata": {},
   "outputs": [
    {
     "name": "stdout",
     "output_type": "stream",
     "text": [
      "T\n"
     ]
    }
   ],
   "source": [
    "print(article[1]) # 맨 처음 글자 "
   ]
  },
  {
   "cell_type": "code",
   "execution_count": 19,
   "metadata": {},
   "outputs": [
    {
     "name": "stdout",
     "output_type": "stream",
     "text": [
      ".\n"
     ]
    }
   ],
   "source": [
    "print(article[-1]) # 맨 나중 글자 "
   ]
  },
  {
   "cell_type": "markdown",
   "metadata": {},
   "source": [
    "# 슬라이싱 (slicing)\n",
    "some_string[3:5] 3번 인덱스에서 5번 전까지\n",
    "\n",
    "some_string[1:5] 1번 인덱스에서 5번 전까지 \n",
    " \n",
    "some_string[1:2] 1번 인덱스에서 2번 전까지 "
   ]
  },
  {
   "cell_type": "code",
   "execution_count": 20,
   "metadata": {},
   "outputs": [],
   "source": [
    "string1= \"python\""
   ]
  },
  {
   "cell_type": "code",
   "execution_count": 21,
   "metadata": {},
   "outputs": [
    {
     "name": "stdout",
     "output_type": "stream",
     "text": [
      "python\n"
     ]
    }
   ],
   "source": [
    "print(string1)"
   ]
  },
  {
   "cell_type": "code",
   "execution_count": 22,
   "metadata": {},
   "outputs": [
    {
     "name": "stdout",
     "output_type": "stream",
     "text": [
      "th\n"
     ]
    }
   ],
   "source": [
    "print(string1[2:4])"
   ]
  },
  {
   "cell_type": "markdown",
   "metadata": {},
   "source": [
    "# 문자열 특수 함수 (Strip)\n",
    "some_string = \" computer \"\n",
    "\n",
    "some_string.strip()\n",
    "\n",
    "some_string = \",,,DaveLee...\"\n",
    "\n",
    "some_string.strip(\",\") 만약 , 을 제거하고 싶다면 strip(\",\")을 써주면 된다. \n",
    "\n",
    "some_string.strip(\".\")\n",
    "## strip은 문자열에 스페이스 빈공간 혹은 개행문자 제거할때 많이 쓴다. "
   ]
  },
  {
   "cell_type": "code",
   "execution_count": 24,
   "metadata": {},
   "outputs": [
    {
     "name": "stdout",
     "output_type": "stream",
     "text": [
      "computer\n"
     ]
    }
   ],
   "source": [
    "some_string= \"   computer   \"\n",
    "print(some_string.strip())"
   ]
  },
  {
   "cell_type": "code",
   "execution_count": 43,
   "metadata": {
    "scrolled": true
   },
   "outputs": [
    {
     "name": "stdout",
     "output_type": "stream",
     "text": [
      " London Korean Film Festivalis going partially digital for the first time as the U.K. continues to grapple with the ongoing novel coronavirus pandemic.\n",
      "\n",
      "The 15th edition of the event will have physical screenings but also elements that will be purely online. The festival is looking to build on the unprecedented global interest in Korean cinema, buoyed by Parasite's stunning success at Cannes and also the Academy Awards earlier this year. In a nod to Parasite director Bong Joon Ho, LKFF will screen two of the filmmaker's early shorts, the mockumentary Influenza (2004) and breakout early work Incoherence (1994) as well as his rare on-screen acting performance in Kang Dae-hee’s Some Light? (2009).\n",
      "\n",
      "LKFF will open Oct. 29 with the European premiere of Kang Dae-gyu's dramedy Pawn starring Sung Dong-il and Kim Hee-won which was edited by Yang Jin-mo who received an Academy Award nomination for his work on Parasite. The festival will close Nov. 12 with the U.K. premiere of Kim Jinyu’s family drama Bori. \n",
      "\n",
      "Other highlights include the European premieres of Jung Jinyoung’s genre-bending mystery Me & Me (2020), which garnered special jury mentions at the Fantasia Festival, and Hong Sangsoo's The Woman Who Ran which won the Silver Bear at the Berlin Film Festival this year. There are also U.K. premieres for Yoon Dan-bi's coming-of-age drama Moving On and Lee Jae-kyoo's Intimate Strangers.\n",
      "\n",
      "The full program for the festival will be announced soon, including screenings, introductions and Q&As.\n",
      "\n",
      "LKFF runs from Oct. 29 through to Nov. 12 with cinema screenings in London and online screenings available to audiences across the U.K.\n"
     ]
    }
   ],
   "source": [
    "print(article.strip(\"The\"))"
   ]
  },
  {
   "cell_type": "markdown",
   "metadata": {},
   "source": [
    "# 다양한 출력\n",
    "## .Format\n",
    "print(\"I have a {}, I have an {}.\".format(\"pen\",\"apple\"))\n",
    "\n",
    "-> .format 0번째: pen, 1번째: apple\n",
    "\n",
    "print(\"I have a {1}, I have an {0}.\".format(\"pen\",\"apple\"))\n",
    "\n",
    "출력결과 : I have a apple, I have a pen (반대로 출력된다.) \n",
    "\n",
    "## 숫자의 소수점을 제한하는 Format (이거 아직 헷갈림)\n",
    "\n",
    "interest = 0.087\n",
    "\n",
    "print (format(interest,\".2f\")) 2번째 자리까지 커트하는 함수 "
   ]
  },
  {
   "cell_type": "code",
   "execution_count": 48,
   "metadata": {},
   "outputs": [
    {
     "name": "stdout",
     "output_type": "stream",
     "text": [
      "0.09\n"
     ]
    }
   ],
   "source": [
    "interest= 0.087\n",
    "print(format(interest, \".2f\"))"
   ]
  },
  {
   "cell_type": "code",
   "execution_count": 49,
   "metadata": {},
   "outputs": [
    {
     "name": "stdout",
     "output_type": "stream",
     "text": [
      "정수 a를 입력하세요:5\n",
      "정수 b를 입력하세요:4\n",
      "a/b를 소수 첫째까지 나타낸 결과입니다: 1.2\n"
     ]
    }
   ],
   "source": [
    "a= int(input(\"정수 a를 입력하세요:\"))\n",
    "b= int(input(\"정수 b를 입력하세요:\"))\n",
    "print(\"a/b를 소수 첫째까지 나타낸 결과입니다:\", format(a/b,\".1f\"))"
   ]
  },
  {
   "cell_type": "markdown",
   "metadata": {},
   "source": [
    "# 문자열 출력 (참고)\n",
    "\n",
    "print(\"I have a %s, I have an %s.\" % (\"pen\",\"apple\"))\n",
    "\n",
    "\n",
    "%s - string\n",
    "\n",
    "\n",
    "%c - character\n",
    "\n",
    "\n",
    "%d - int\n",
    "\n",
    "\n",
    "%f - float"
   ]
  },
  {
   "cell_type": "markdown",
   "metadata": {},
   "source": [
    "# Split vs Strip\n",
    "## Split은 문자열인 변수에서 원하는 문자만 제거 한 후, 리스트로 만들어줌\n",
    "## Strip은 문자녕"
   ]
  }
 ],
 "metadata": {
  "kernelspec": {
   "display_name": "Python 3",
   "language": "python",
   "name": "python3"
  },
  "language_info": {
   "codemirror_mode": {
    "name": "ipython",
    "version": 3
   },
   "file_extension": ".py",
   "mimetype": "text/x-python",
   "name": "python",
   "nbconvert_exporter": "python",
   "pygments_lexer": "ipython3",
   "version": "3.8.3"
  }
 },
 "nbformat": 4,
 "nbformat_minor": 4
}
